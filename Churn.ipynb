{
 "cells": [
  {
   "cell_type": "code",
   "execution_count": 115,
   "id": "aad4e838-c53e-4b6d-8e20-acb87867d81b",
   "metadata": {},
   "outputs": [],
   "source": [
    "import pandas as pd\n",
    "import seaborn as sns\n",
    "from sklearn.linear_model import LogisticRegression\n",
    "from sklearn.metrics import confusion_matrix\n",
    "from sklearn.model_selection import train_test_split\n",
    "import itertools\n",
    "from sklearn.metrics import jaccard_score\n",
    "from sklearn.metrics import accuracy_score\n",
    "import tensorflow as tf\n",
    "from tensorflow import keras\n",
    "import numpy as np\n",
    "import matplotlib.pyplot as plt\n",
    "from tensorflow.keras.models import Sequential\n",
    "from tensorflow.keras.layers import Dense\n",
    "import seaborn as sns\n",
    "from sklearn import preprocessing\n",
    "import pylab as pl\n",
    "import numpy as np\n",
    "import scipy.optimize as opt\n",
    "from sklearn import preprocessing\n",
    "%matplotlib inline \n",
    "import matplotlib.pyplot as plt\n",
    "from sklearn.model_selection import GridSearchCV"
   ]
  },
  {
   "cell_type": "code",
   "execution_count": 116,
   "id": "89b932de-0ff7-49fe-9d8e-d968df1a3fff",
   "metadata": {},
   "outputs": [
    {
     "data": {
      "text/html": [
       "<div>\n",
       "<style scoped>\n",
       "    .dataframe tbody tr th:only-of-type {\n",
       "        vertical-align: middle;\n",
       "    }\n",
       "\n",
       "    .dataframe tbody tr th {\n",
       "        vertical-align: top;\n",
       "    }\n",
       "\n",
       "    .dataframe thead th {\n",
       "        text-align: right;\n",
       "    }\n",
       "</style>\n",
       "<table border=\"1\" class=\"dataframe\">\n",
       "  <thead>\n",
       "    <tr style=\"text-align: right;\">\n",
       "      <th></th>\n",
       "      <th>customer_id</th>\n",
       "      <th>credit_score</th>\n",
       "      <th>country</th>\n",
       "      <th>gender</th>\n",
       "      <th>age</th>\n",
       "      <th>tenure</th>\n",
       "      <th>balance</th>\n",
       "      <th>products_number</th>\n",
       "      <th>credit_card</th>\n",
       "      <th>active_member</th>\n",
       "      <th>estimated_salary</th>\n",
       "      <th>churn</th>\n",
       "    </tr>\n",
       "  </thead>\n",
       "  <tbody>\n",
       "    <tr>\n",
       "      <th>0</th>\n",
       "      <td>15634602</td>\n",
       "      <td>619</td>\n",
       "      <td>France</td>\n",
       "      <td>Female</td>\n",
       "      <td>42</td>\n",
       "      <td>2</td>\n",
       "      <td>0.00</td>\n",
       "      <td>1</td>\n",
       "      <td>1</td>\n",
       "      <td>1</td>\n",
       "      <td>101348.88</td>\n",
       "      <td>1</td>\n",
       "    </tr>\n",
       "    <tr>\n",
       "      <th>1</th>\n",
       "      <td>15647311</td>\n",
       "      <td>608</td>\n",
       "      <td>Spain</td>\n",
       "      <td>Female</td>\n",
       "      <td>41</td>\n",
       "      <td>1</td>\n",
       "      <td>83807.86</td>\n",
       "      <td>1</td>\n",
       "      <td>0</td>\n",
       "      <td>1</td>\n",
       "      <td>112542.58</td>\n",
       "      <td>0</td>\n",
       "    </tr>\n",
       "    <tr>\n",
       "      <th>2</th>\n",
       "      <td>15619304</td>\n",
       "      <td>502</td>\n",
       "      <td>France</td>\n",
       "      <td>Female</td>\n",
       "      <td>42</td>\n",
       "      <td>8</td>\n",
       "      <td>159660.80</td>\n",
       "      <td>3</td>\n",
       "      <td>1</td>\n",
       "      <td>0</td>\n",
       "      <td>113931.57</td>\n",
       "      <td>1</td>\n",
       "    </tr>\n",
       "    <tr>\n",
       "      <th>3</th>\n",
       "      <td>15701354</td>\n",
       "      <td>699</td>\n",
       "      <td>France</td>\n",
       "      <td>Female</td>\n",
       "      <td>39</td>\n",
       "      <td>1</td>\n",
       "      <td>0.00</td>\n",
       "      <td>2</td>\n",
       "      <td>0</td>\n",
       "      <td>0</td>\n",
       "      <td>93826.63</td>\n",
       "      <td>0</td>\n",
       "    </tr>\n",
       "    <tr>\n",
       "      <th>4</th>\n",
       "      <td>15737888</td>\n",
       "      <td>850</td>\n",
       "      <td>Spain</td>\n",
       "      <td>Female</td>\n",
       "      <td>43</td>\n",
       "      <td>2</td>\n",
       "      <td>125510.82</td>\n",
       "      <td>1</td>\n",
       "      <td>1</td>\n",
       "      <td>1</td>\n",
       "      <td>79084.10</td>\n",
       "      <td>0</td>\n",
       "    </tr>\n",
       "  </tbody>\n",
       "</table>\n",
       "</div>"
      ],
      "text/plain": [
       "   customer_id  credit_score country  gender  age  tenure    balance  \\\n",
       "0     15634602           619  France  Female   42       2       0.00   \n",
       "1     15647311           608   Spain  Female   41       1   83807.86   \n",
       "2     15619304           502  France  Female   42       8  159660.80   \n",
       "3     15701354           699  France  Female   39       1       0.00   \n",
       "4     15737888           850   Spain  Female   43       2  125510.82   \n",
       "\n",
       "   products_number  credit_card  active_member  estimated_salary  churn  \n",
       "0                1            1              1         101348.88      1  \n",
       "1                1            0              1         112542.58      0  \n",
       "2                3            1              0         113931.57      1  \n",
       "3                2            0              0          93826.63      0  \n",
       "4                1            1              1          79084.10      0  "
      ]
     },
     "execution_count": 116,
     "metadata": {},
     "output_type": "execute_result"
    }
   ],
   "source": [
    "df=pd.read_csv('Bank Customer Churn Prediction.csv')\n",
    "df.head()"
   ]
  },
  {
   "cell_type": "code",
   "execution_count": 135,
   "id": "2403bcfd-de07-495d-b8d2-d76200fc11c8",
   "metadata": {},
   "outputs": [
    {
     "ename": "NameError",
     "evalue": "name 'yhat' is not defined",
     "output_type": "error",
     "traceback": [
      "\u001b[1;31m---------------------------------------------------------------------------\u001b[0m",
      "\u001b[1;31mNameError\u001b[0m                                 Traceback (most recent call last)",
      "Input \u001b[1;32mIn [135]\u001b[0m, in \u001b[0;36m<cell line: 36>\u001b[1;34m()\u001b[0m\n\u001b[0;32m     34\u001b[0m     plt\u001b[38;5;241m.\u001b[39mylabel(\u001b[38;5;124m'\u001b[39m\u001b[38;5;124mTrue label\u001b[39m\u001b[38;5;124m'\u001b[39m)\n\u001b[0;32m     35\u001b[0m     plt\u001b[38;5;241m.\u001b[39mxlabel(\u001b[38;5;124m'\u001b[39m\u001b[38;5;124mPredicted label\u001b[39m\u001b[38;5;124m'\u001b[39m)\n\u001b[1;32m---> 36\u001b[0m \u001b[38;5;28mprint\u001b[39m(confusion_matrix(y_test, \u001b[43myhat\u001b[49m, labels\u001b[38;5;241m=\u001b[39m[\u001b[38;5;241m1\u001b[39m,\u001b[38;5;241m0\u001b[39m]))\n",
      "\u001b[1;31mNameError\u001b[0m: name 'yhat' is not defined"
     ]
    }
   ],
   "source": [
    "from sklearn.metrics import classification_report, confusion_matrix\n",
    "import itertools\n",
    "def plot_confusion_matrix(cm, classes,\n",
    "                          normalize=False,\n",
    "                          title='Confusion matrix',\n",
    "                          cmap=plt.cm.Blues):\n",
    "    \"\"\"\n",
    "    This function prints and plots the confusion matrix.\n",
    "    Normalization can be applied by setting `normalize=True`.\n",
    "    \"\"\"\n",
    "    if normalize:\n",
    "        cm = cm.astype('float') / cm.sum(axis=1)[:, np.newaxis]\n",
    "        print(\"Normalized confusion matrix\")\n",
    "    else:\n",
    "        print('Confusion matrix, without normalization')\n",
    "\n",
    "    print(cm)\n",
    "\n",
    "    plt.imshow(cm, interpolation='nearest', cmap=cmap)\n",
    "    plt.title(title)\n",
    "    plt.colorbar()\n",
    "    tick_marks = np.arange(len(classes))\n",
    "    plt.xticks(tick_marks, classes, rotation=45)\n",
    "    plt.yticks(tick_marks, classes)\n",
    "\n",
    "    fmt = '.2f' if normalize else 'd'\n",
    "    thresh = cm.max() / 2.\n",
    "    for i, j in itertools.product(range(cm.shape[0]), range(cm.shape[1])):\n",
    "        plt.text(j, i, format(cm[i, j], fmt),\n",
    "                 horizontalalignment=\"center\",\n",
    "                 color=\"white\" if cm[i, j] > thresh else \"black\")\n",
    "\n",
    "    plt.tight_layout()\n",
    "    plt.ylabel('True label')\n",
    "    plt.xlabel('Predicted label')\n",
    "print(confusion_matrix(y_test, yhat, labels=[1,0]))\n"
   ]
  },
  {
   "cell_type": "code",
   "execution_count": 118,
   "id": "5c964384-13fa-4c31-890f-9f19a190bb86",
   "metadata": {},
   "outputs": [
    {
     "data": {
      "text/html": [
       "<div>\n",
       "<style scoped>\n",
       "    .dataframe tbody tr th:only-of-type {\n",
       "        vertical-align: middle;\n",
       "    }\n",
       "\n",
       "    .dataframe tbody tr th {\n",
       "        vertical-align: top;\n",
       "    }\n",
       "\n",
       "    .dataframe thead th {\n",
       "        text-align: right;\n",
       "    }\n",
       "</style>\n",
       "<table border=\"1\" class=\"dataframe\">\n",
       "  <thead>\n",
       "    <tr style=\"text-align: right;\">\n",
       "      <th></th>\n",
       "      <th>customer_id</th>\n",
       "      <th>credit_score</th>\n",
       "      <th>gender</th>\n",
       "      <th>age</th>\n",
       "      <th>tenure</th>\n",
       "      <th>balance</th>\n",
       "      <th>products_number</th>\n",
       "      <th>credit_card</th>\n",
       "      <th>active_member</th>\n",
       "      <th>estimated_salary</th>\n",
       "      <th>churn</th>\n",
       "    </tr>\n",
       "    <tr>\n",
       "      <th>country</th>\n",
       "      <th></th>\n",
       "      <th></th>\n",
       "      <th></th>\n",
       "      <th></th>\n",
       "      <th></th>\n",
       "      <th></th>\n",
       "      <th></th>\n",
       "      <th></th>\n",
       "      <th></th>\n",
       "      <th></th>\n",
       "      <th></th>\n",
       "    </tr>\n",
       "  </thead>\n",
       "  <tbody>\n",
       "    <tr>\n",
       "      <th>France</th>\n",
       "      <td>15565714</td>\n",
       "      <td>350</td>\n",
       "      <td>Female</td>\n",
       "      <td>18</td>\n",
       "      <td>0</td>\n",
       "      <td>0.00</td>\n",
       "      <td>1</td>\n",
       "      <td>0</td>\n",
       "      <td>0</td>\n",
       "      <td>90.07</td>\n",
       "      <td>0</td>\n",
       "    </tr>\n",
       "    <tr>\n",
       "      <th>Germany</th>\n",
       "      <td>15565779</td>\n",
       "      <td>350</td>\n",
       "      <td>Female</td>\n",
       "      <td>18</td>\n",
       "      <td>0</td>\n",
       "      <td>27288.43</td>\n",
       "      <td>1</td>\n",
       "      <td>0</td>\n",
       "      <td>0</td>\n",
       "      <td>11.58</td>\n",
       "      <td>0</td>\n",
       "    </tr>\n",
       "    <tr>\n",
       "      <th>Spain</th>\n",
       "      <td>15565701</td>\n",
       "      <td>350</td>\n",
       "      <td>Female</td>\n",
       "      <td>18</td>\n",
       "      <td>0</td>\n",
       "      <td>0.00</td>\n",
       "      <td>1</td>\n",
       "      <td>0</td>\n",
       "      <td>0</td>\n",
       "      <td>417.41</td>\n",
       "      <td>0</td>\n",
       "    </tr>\n",
       "  </tbody>\n",
       "</table>\n",
       "</div>"
      ],
      "text/plain": [
       "         customer_id  credit_score  gender  age  tenure   balance  \\\n",
       "country                                                             \n",
       "France      15565714           350  Female   18       0      0.00   \n",
       "Germany     15565779           350  Female   18       0  27288.43   \n",
       "Spain       15565701           350  Female   18       0      0.00   \n",
       "\n",
       "         products_number  credit_card  active_member  estimated_salary  churn  \n",
       "country                                                                        \n",
       "France                 1            0              0             90.07      0  \n",
       "Germany                1            0              0             11.58      0  \n",
       "Spain                  1            0              0            417.41      0  "
      ]
     },
     "execution_count": 118,
     "metadata": {},
     "output_type": "execute_result"
    }
   ],
   "source": [
    "df.groupby('country').agg('min')"
   ]
  },
  {
   "cell_type": "code",
   "execution_count": 119,
   "id": "8c187f69-8b0c-4780-9e55-98fe7535e654",
   "metadata": {},
   "outputs": [
    {
     "data": {
      "text/plain": [
       "Index(['customer_id', 'credit_score', 'country', 'gender', 'age', 'tenure',\n",
       "       'balance', 'products_number', 'credit_card', 'active_member',\n",
       "       'estimated_salary', 'churn'],\n",
       "      dtype='object')"
      ]
     },
     "execution_count": 119,
     "metadata": {},
     "output_type": "execute_result"
    }
   ],
   "source": [
    "df.columns"
   ]
  },
  {
   "cell_type": "code",
   "execution_count": 120,
   "id": "174565f1-8358-4c01-a2b0-89906131781b",
   "metadata": {},
   "outputs": [
    {
     "data": {
      "text/html": [
       "<div>\n",
       "<style scoped>\n",
       "    .dataframe tbody tr th:only-of-type {\n",
       "        vertical-align: middle;\n",
       "    }\n",
       "\n",
       "    .dataframe tbody tr th {\n",
       "        vertical-align: top;\n",
       "    }\n",
       "\n",
       "    .dataframe thead th {\n",
       "        text-align: right;\n",
       "    }\n",
       "</style>\n",
       "<table border=\"1\" class=\"dataframe\">\n",
       "  <thead>\n",
       "    <tr style=\"text-align: right;\">\n",
       "      <th></th>\n",
       "      <th>customer_id</th>\n",
       "      <th>credit_score</th>\n",
       "      <th>age</th>\n",
       "      <th>tenure</th>\n",
       "      <th>balance</th>\n",
       "      <th>products_number</th>\n",
       "      <th>credit_card</th>\n",
       "      <th>active_member</th>\n",
       "      <th>estimated_salary</th>\n",
       "      <th>churn</th>\n",
       "    </tr>\n",
       "  </thead>\n",
       "  <tbody>\n",
       "    <tr>\n",
       "      <th>count</th>\n",
       "      <td>1.000000e+04</td>\n",
       "      <td>10000.000000</td>\n",
       "      <td>10000.000000</td>\n",
       "      <td>10000.000000</td>\n",
       "      <td>10000.000000</td>\n",
       "      <td>10000.000000</td>\n",
       "      <td>10000.00000</td>\n",
       "      <td>10000.000000</td>\n",
       "      <td>10000.000000</td>\n",
       "      <td>10000.000000</td>\n",
       "    </tr>\n",
       "    <tr>\n",
       "      <th>mean</th>\n",
       "      <td>1.569094e+07</td>\n",
       "      <td>650.528800</td>\n",
       "      <td>38.921800</td>\n",
       "      <td>5.012800</td>\n",
       "      <td>76485.889288</td>\n",
       "      <td>1.530200</td>\n",
       "      <td>0.70550</td>\n",
       "      <td>0.515100</td>\n",
       "      <td>100090.239881</td>\n",
       "      <td>0.203700</td>\n",
       "    </tr>\n",
       "    <tr>\n",
       "      <th>std</th>\n",
       "      <td>7.193619e+04</td>\n",
       "      <td>96.653299</td>\n",
       "      <td>10.487806</td>\n",
       "      <td>2.892174</td>\n",
       "      <td>62397.405202</td>\n",
       "      <td>0.581654</td>\n",
       "      <td>0.45584</td>\n",
       "      <td>0.499797</td>\n",
       "      <td>57510.492818</td>\n",
       "      <td>0.402769</td>\n",
       "    </tr>\n",
       "    <tr>\n",
       "      <th>min</th>\n",
       "      <td>1.556570e+07</td>\n",
       "      <td>350.000000</td>\n",
       "      <td>18.000000</td>\n",
       "      <td>0.000000</td>\n",
       "      <td>0.000000</td>\n",
       "      <td>1.000000</td>\n",
       "      <td>0.00000</td>\n",
       "      <td>0.000000</td>\n",
       "      <td>11.580000</td>\n",
       "      <td>0.000000</td>\n",
       "    </tr>\n",
       "    <tr>\n",
       "      <th>25%</th>\n",
       "      <td>1.562853e+07</td>\n",
       "      <td>584.000000</td>\n",
       "      <td>32.000000</td>\n",
       "      <td>3.000000</td>\n",
       "      <td>0.000000</td>\n",
       "      <td>1.000000</td>\n",
       "      <td>0.00000</td>\n",
       "      <td>0.000000</td>\n",
       "      <td>51002.110000</td>\n",
       "      <td>0.000000</td>\n",
       "    </tr>\n",
       "    <tr>\n",
       "      <th>50%</th>\n",
       "      <td>1.569074e+07</td>\n",
       "      <td>652.000000</td>\n",
       "      <td>37.000000</td>\n",
       "      <td>5.000000</td>\n",
       "      <td>97198.540000</td>\n",
       "      <td>1.000000</td>\n",
       "      <td>1.00000</td>\n",
       "      <td>1.000000</td>\n",
       "      <td>100193.915000</td>\n",
       "      <td>0.000000</td>\n",
       "    </tr>\n",
       "    <tr>\n",
       "      <th>75%</th>\n",
       "      <td>1.575323e+07</td>\n",
       "      <td>718.000000</td>\n",
       "      <td>44.000000</td>\n",
       "      <td>7.000000</td>\n",
       "      <td>127644.240000</td>\n",
       "      <td>2.000000</td>\n",
       "      <td>1.00000</td>\n",
       "      <td>1.000000</td>\n",
       "      <td>149388.247500</td>\n",
       "      <td>0.000000</td>\n",
       "    </tr>\n",
       "    <tr>\n",
       "      <th>max</th>\n",
       "      <td>1.581569e+07</td>\n",
       "      <td>850.000000</td>\n",
       "      <td>92.000000</td>\n",
       "      <td>10.000000</td>\n",
       "      <td>250898.090000</td>\n",
       "      <td>4.000000</td>\n",
       "      <td>1.00000</td>\n",
       "      <td>1.000000</td>\n",
       "      <td>199992.480000</td>\n",
       "      <td>1.000000</td>\n",
       "    </tr>\n",
       "  </tbody>\n",
       "</table>\n",
       "</div>"
      ],
      "text/plain": [
       "        customer_id  credit_score           age        tenure        balance  \\\n",
       "count  1.000000e+04  10000.000000  10000.000000  10000.000000   10000.000000   \n",
       "mean   1.569094e+07    650.528800     38.921800      5.012800   76485.889288   \n",
       "std    7.193619e+04     96.653299     10.487806      2.892174   62397.405202   \n",
       "min    1.556570e+07    350.000000     18.000000      0.000000       0.000000   \n",
       "25%    1.562853e+07    584.000000     32.000000      3.000000       0.000000   \n",
       "50%    1.569074e+07    652.000000     37.000000      5.000000   97198.540000   \n",
       "75%    1.575323e+07    718.000000     44.000000      7.000000  127644.240000   \n",
       "max    1.581569e+07    850.000000     92.000000     10.000000  250898.090000   \n",
       "\n",
       "       products_number  credit_card  active_member  estimated_salary  \\\n",
       "count     10000.000000  10000.00000   10000.000000      10000.000000   \n",
       "mean          1.530200      0.70550       0.515100     100090.239881   \n",
       "std           0.581654      0.45584       0.499797      57510.492818   \n",
       "min           1.000000      0.00000       0.000000         11.580000   \n",
       "25%           1.000000      0.00000       0.000000      51002.110000   \n",
       "50%           1.000000      1.00000       1.000000     100193.915000   \n",
       "75%           2.000000      1.00000       1.000000     149388.247500   \n",
       "max           4.000000      1.00000       1.000000     199992.480000   \n",
       "\n",
       "              churn  \n",
       "count  10000.000000  \n",
       "mean       0.203700  \n",
       "std        0.402769  \n",
       "min        0.000000  \n",
       "25%        0.000000  \n",
       "50%        0.000000  \n",
       "75%        0.000000  \n",
       "max        1.000000  "
      ]
     },
     "execution_count": 120,
     "metadata": {},
     "output_type": "execute_result"
    }
   ],
   "source": [
    "df.describe()"
   ]
  },
  {
   "cell_type": "code",
   "execution_count": 121,
   "id": "8d5a2d0a-5ead-4122-b6e6-cb8bd7906970",
   "metadata": {},
   "outputs": [],
   "source": [
    "df2=pd.get_dummies(df)"
   ]
  },
  {
   "cell_type": "code",
   "execution_count": 122,
   "id": "c835e41c-b6f9-4536-a1fd-0f36b43ea2a2",
   "metadata": {},
   "outputs": [
    {
     "data": {
      "text/plain": [
       "Index(['customer_id', 'credit_score', 'age', 'tenure', 'balance',\n",
       "       'products_number', 'credit_card', 'active_member', 'estimated_salary',\n",
       "       'churn', 'country_France', 'country_Germany', 'country_Spain',\n",
       "       'gender_Female', 'gender_Male'],\n",
       "      dtype='object')"
      ]
     },
     "execution_count": 122,
     "metadata": {},
     "output_type": "execute_result"
    }
   ],
   "source": [
    "df2.columns"
   ]
  },
  {
   "cell_type": "code",
   "execution_count": 123,
   "id": "72aa6c89-189a-41c2-9340-a24e4accdf1f",
   "metadata": {},
   "outputs": [
    {
     "data": {
      "text/plain": [
       "<AxesSubplot:>"
      ]
     },
     "execution_count": 123,
     "metadata": {},
     "output_type": "execute_result"
    },
    {
     "data": {
      "image/png": "[encoded data removed]",
      "text/plain": [
       "<Figure size 2160x1440 with 2 Axes>"
      ]
     },
     "metadata": {
      "needs_background": "light"
     },
     "output_type": "display_data"
    }
   ],
   "source": [
    "import matplotlib.pyplot as plt\n",
    "\n",
    "fig, ax = plt.subplots(figsize=(30,20)) \n",
    "corrM = df2.corr()\n",
    "sns.heatmap(corrM, annot=True, ax=ax)\n"
   ]
  },
  {
   "cell_type": "markdown",
   "id": "24f8d14f-6cca-4e89-bfb7-8d334c023aed",
   "metadata": {},
   "source": [
    "### As we there is low correlation betwen churn and credit card, and tenure\n"
   ]
  },
  {
   "cell_type": "code",
   "execution_count": 124,
   "id": "434a130a-1641-4f63-9011-28e17cea3562",
   "metadata": {},
   "outputs": [
    {
     "data": {
      "text/html": [
       "<div>\n",
       "<style scoped>\n",
       "    .dataframe tbody tr th:only-of-type {\n",
       "        vertical-align: middle;\n",
       "    }\n",
       "\n",
       "    .dataframe tbody tr th {\n",
       "        vertical-align: top;\n",
       "    }\n",
       "\n",
       "    .dataframe thead th {\n",
       "        text-align: right;\n",
       "    }\n",
       "</style>\n",
       "<table border=\"1\" class=\"dataframe\">\n",
       "  <thead>\n",
       "    <tr style=\"text-align: right;\">\n",
       "      <th></th>\n",
       "      <th>customer_id</th>\n",
       "      <th>credit_score</th>\n",
       "      <th>age</th>\n",
       "      <th>tenure</th>\n",
       "      <th>balance</th>\n",
       "      <th>products_number</th>\n",
       "      <th>credit_card</th>\n",
       "      <th>active_member</th>\n",
       "      <th>estimated_salary</th>\n",
       "      <th>churn</th>\n",
       "      <th>country_France</th>\n",
       "      <th>country_Germany</th>\n",
       "      <th>country_Spain</th>\n",
       "      <th>gender_Female</th>\n",
       "      <th>gender_Male</th>\n",
       "    </tr>\n",
       "  </thead>\n",
       "  <tbody>\n",
       "    <tr>\n",
       "      <th>0</th>\n",
       "      <td>15634602</td>\n",
       "      <td>619</td>\n",
       "      <td>42</td>\n",
       "      <td>2</td>\n",
       "      <td>0.00</td>\n",
       "      <td>1</td>\n",
       "      <td>1</td>\n",
       "      <td>1</td>\n",
       "      <td>101348.88</td>\n",
       "      <td>1</td>\n",
       "      <td>1</td>\n",
       "      <td>0</td>\n",
       "      <td>0</td>\n",
       "      <td>1</td>\n",
       "      <td>0</td>\n",
       "    </tr>\n",
       "    <tr>\n",
       "      <th>1</th>\n",
       "      <td>15647311</td>\n",
       "      <td>608</td>\n",
       "      <td>41</td>\n",
       "      <td>1</td>\n",
       "      <td>83807.86</td>\n",
       "      <td>1</td>\n",
       "      <td>0</td>\n",
       "      <td>1</td>\n",
       "      <td>112542.58</td>\n",
       "      <td>0</td>\n",
       "      <td>0</td>\n",
       "      <td>0</td>\n",
       "      <td>1</td>\n",
       "      <td>1</td>\n",
       "      <td>0</td>\n",
       "    </tr>\n",
       "    <tr>\n",
       "      <th>2</th>\n",
       "      <td>15619304</td>\n",
       "      <td>502</td>\n",
       "      <td>42</td>\n",
       "      <td>8</td>\n",
       "      <td>159660.80</td>\n",
       "      <td>3</td>\n",
       "      <td>1</td>\n",
       "      <td>0</td>\n",
       "      <td>113931.57</td>\n",
       "      <td>1</td>\n",
       "      <td>1</td>\n",
       "      <td>0</td>\n",
       "      <td>0</td>\n",
       "      <td>1</td>\n",
       "      <td>0</td>\n",
       "    </tr>\n",
       "    <tr>\n",
       "      <th>3</th>\n",
       "      <td>15701354</td>\n",
       "      <td>699</td>\n",
       "      <td>39</td>\n",
       "      <td>1</td>\n",
       "      <td>0.00</td>\n",
       "      <td>2</td>\n",
       "      <td>0</td>\n",
       "      <td>0</td>\n",
       "      <td>93826.63</td>\n",
       "      <td>0</td>\n",
       "      <td>1</td>\n",
       "      <td>0</td>\n",
       "      <td>0</td>\n",
       "      <td>1</td>\n",
       "      <td>0</td>\n",
       "    </tr>\n",
       "    <tr>\n",
       "      <th>4</th>\n",
       "      <td>15737888</td>\n",
       "      <td>850</td>\n",
       "      <td>43</td>\n",
       "      <td>2</td>\n",
       "      <td>125510.82</td>\n",
       "      <td>1</td>\n",
       "      <td>1</td>\n",
       "      <td>1</td>\n",
       "      <td>79084.10</td>\n",
       "      <td>0</td>\n",
       "      <td>0</td>\n",
       "      <td>0</td>\n",
       "      <td>1</td>\n",
       "      <td>1</td>\n",
       "      <td>0</td>\n",
       "    </tr>\n",
       "  </tbody>\n",
       "</table>\n",
       "</div>"
      ],
      "text/plain": [
       "   customer_id  credit_score  age  tenure    balance  products_number  \\\n",
       "0     15634602           619   42       2       0.00                1   \n",
       "1     15647311           608   41       1   83807.86                1   \n",
       "2     15619304           502   42       8  159660.80                3   \n",
       "3     15701354           699   39       1       0.00                2   \n",
       "4     15737888           850   43       2  125510.82                1   \n",
       "\n",
       "   credit_card  active_member  estimated_salary  churn  country_France  \\\n",
       "0            1              1         101348.88      1               1   \n",
       "1            0              1         112542.58      0               0   \n",
       "2            1              0         113931.57      1               1   \n",
       "3            0              0          93826.63      0               1   \n",
       "4            1              1          79084.10      0               0   \n",
       "\n",
       "   country_Germany  country_Spain  gender_Female  gender_Male  \n",
       "0                0              0              1            0  \n",
       "1                0              1              1            0  \n",
       "2                0              0              1            0  \n",
       "3                0              0              1            0  \n",
       "4                0              1              1            0  "
      ]
     },
     "execution_count": 124,
     "metadata": {},
     "output_type": "execute_result"
    }
   ],
   "source": [
    "df2.head()"
   ]
  },
  {
   "cell_type": "code",
   "execution_count": 125,
   "id": "350b040f-7e4b-4750-a868-560b8fed2f27",
   "metadata": {},
   "outputs": [
    {
     "data": {
      "text/html": [
       "<div>\n",
       "<style scoped>\n",
       "    .dataframe tbody tr th:only-of-type {\n",
       "        vertical-align: middle;\n",
       "    }\n",
       "\n",
       "    .dataframe tbody tr th {\n",
       "        vertical-align: top;\n",
       "    }\n",
       "\n",
       "    .dataframe thead th {\n",
       "        text-align: right;\n",
       "    }\n",
       "</style>\n",
       "<table border=\"1\" class=\"dataframe\">\n",
       "  <thead>\n",
       "    <tr style=\"text-align: right;\">\n",
       "      <th></th>\n",
       "      <th>customer_id</th>\n",
       "      <th>credit_score</th>\n",
       "      <th>age</th>\n",
       "      <th>tenure</th>\n",
       "      <th>balance</th>\n",
       "      <th>products_number</th>\n",
       "      <th>credit_card</th>\n",
       "      <th>active_member</th>\n",
       "      <th>estimated_salary</th>\n",
       "      <th>churn</th>\n",
       "      <th>country_France</th>\n",
       "      <th>country_Germany</th>\n",
       "      <th>country_Spain</th>\n",
       "      <th>gender_Female</th>\n",
       "      <th>gender_Male</th>\n",
       "    </tr>\n",
       "  </thead>\n",
       "  <tbody>\n",
       "    <tr>\n",
       "      <th>0</th>\n",
       "      <td>15634602</td>\n",
       "      <td>0.538</td>\n",
       "      <td>0.324324</td>\n",
       "      <td>0.2</td>\n",
       "      <td>0.000000</td>\n",
       "      <td>1</td>\n",
       "      <td>1</td>\n",
       "      <td>1</td>\n",
       "      <td>0.506735</td>\n",
       "      <td>1</td>\n",
       "      <td>1</td>\n",
       "      <td>0</td>\n",
       "      <td>0</td>\n",
       "      <td>1</td>\n",
       "      <td>0</td>\n",
       "    </tr>\n",
       "    <tr>\n",
       "      <th>1</th>\n",
       "      <td>15647311</td>\n",
       "      <td>0.516</td>\n",
       "      <td>0.310811</td>\n",
       "      <td>0.1</td>\n",
       "      <td>0.334031</td>\n",
       "      <td>1</td>\n",
       "      <td>0</td>\n",
       "      <td>1</td>\n",
       "      <td>0.562709</td>\n",
       "      <td>0</td>\n",
       "      <td>0</td>\n",
       "      <td>0</td>\n",
       "      <td>1</td>\n",
       "      <td>1</td>\n",
       "      <td>0</td>\n",
       "    </tr>\n",
       "    <tr>\n",
       "      <th>2</th>\n",
       "      <td>15619304</td>\n",
       "      <td>0.304</td>\n",
       "      <td>0.324324</td>\n",
       "      <td>0.8</td>\n",
       "      <td>0.636357</td>\n",
       "      <td>3</td>\n",
       "      <td>1</td>\n",
       "      <td>0</td>\n",
       "      <td>0.569654</td>\n",
       "      <td>1</td>\n",
       "      <td>1</td>\n",
       "      <td>0</td>\n",
       "      <td>0</td>\n",
       "      <td>1</td>\n",
       "      <td>0</td>\n",
       "    </tr>\n",
       "    <tr>\n",
       "      <th>3</th>\n",
       "      <td>15701354</td>\n",
       "      <td>0.698</td>\n",
       "      <td>0.283784</td>\n",
       "      <td>0.1</td>\n",
       "      <td>0.000000</td>\n",
       "      <td>2</td>\n",
       "      <td>0</td>\n",
       "      <td>0</td>\n",
       "      <td>0.469120</td>\n",
       "      <td>0</td>\n",
       "      <td>1</td>\n",
       "      <td>0</td>\n",
       "      <td>0</td>\n",
       "      <td>1</td>\n",
       "      <td>0</td>\n",
       "    </tr>\n",
       "    <tr>\n",
       "      <th>4</th>\n",
       "      <td>15737888</td>\n",
       "      <td>1.000</td>\n",
       "      <td>0.337838</td>\n",
       "      <td>0.2</td>\n",
       "      <td>0.500246</td>\n",
       "      <td>1</td>\n",
       "      <td>1</td>\n",
       "      <td>1</td>\n",
       "      <td>0.395400</td>\n",
       "      <td>0</td>\n",
       "      <td>0</td>\n",
       "      <td>0</td>\n",
       "      <td>1</td>\n",
       "      <td>1</td>\n",
       "      <td>0</td>\n",
       "    </tr>\n",
       "  </tbody>\n",
       "</table>\n",
       "</div>"
      ],
      "text/plain": [
       "   customer_id  credit_score       age  tenure   balance  products_number  \\\n",
       "0     15634602         0.538  0.324324     0.2  0.000000                1   \n",
       "1     15647311         0.516  0.310811     0.1  0.334031                1   \n",
       "2     15619304         0.304  0.324324     0.8  0.636357                3   \n",
       "3     15701354         0.698  0.283784     0.1  0.000000                2   \n",
       "4     15737888         1.000  0.337838     0.2  0.500246                1   \n",
       "\n",
       "   credit_card  active_member  estimated_salary  churn  country_France  \\\n",
       "0            1              1          0.506735      1               1   \n",
       "1            0              1          0.562709      0               0   \n",
       "2            1              0          0.569654      1               1   \n",
       "3            0              0          0.469120      0               1   \n",
       "4            1              1          0.395400      0               0   \n",
       "\n",
       "   country_Germany  country_Spain  gender_Female  gender_Male  \n",
       "0                0              0              1            0  \n",
       "1                0              1              1            0  \n",
       "2                0              0              1            0  \n",
       "3                0              0              1            0  \n",
       "4                0              1              1            0  "
      ]
     },
     "execution_count": 125,
     "metadata": {},
     "output_type": "execute_result"
    }
   ],
   "source": [
    "a=['credit_score', 'age', 'tenure', 'balance',  'estimated_salary']\n",
    "for i in a:\n",
    "    df2[a]=(df2[a]-df2[a].min())/(df2[a].max()-df2[a].min())\n",
    "\n",
    "df2.head()\n"
   ]
  },
  {
   "cell_type": "code",
   "execution_count": 126,
   "id": "eb6e7f30-8362-40d0-a3e4-0bbce60d4e33",
   "metadata": {},
   "outputs": [
    {
     "data": {
      "text/html": [
       "<div>\n",
       "<style scoped>\n",
       "    .dataframe tbody tr th:only-of-type {\n",
       "        vertical-align: middle;\n",
       "    }\n",
       "\n",
       "    .dataframe tbody tr th {\n",
       "        vertical-align: top;\n",
       "    }\n",
       "\n",
       "    .dataframe thead th {\n",
       "        text-align: right;\n",
       "    }\n",
       "</style>\n",
       "<table border=\"1\" class=\"dataframe\">\n",
       "  <thead>\n",
       "    <tr style=\"text-align: right;\">\n",
       "      <th></th>\n",
       "      <th>customer_id</th>\n",
       "      <th>credit_score</th>\n",
       "      <th>age</th>\n",
       "      <th>tenure</th>\n",
       "      <th>balance</th>\n",
       "      <th>products_number</th>\n",
       "      <th>credit_card</th>\n",
       "      <th>active_member</th>\n",
       "      <th>estimated_salary</th>\n",
       "      <th>churn</th>\n",
       "      <th>country_France</th>\n",
       "      <th>country_Germany</th>\n",
       "      <th>country_Spain</th>\n",
       "      <th>gender_Female</th>\n",
       "      <th>gender_Male</th>\n",
       "    </tr>\n",
       "  </thead>\n",
       "  <tbody>\n",
       "    <tr>\n",
       "      <th>count</th>\n",
       "      <td>1.000000e+04</td>\n",
       "      <td>10000.000000</td>\n",
       "      <td>10000.000000</td>\n",
       "      <td>10000.000000</td>\n",
       "      <td>10000.000000</td>\n",
       "      <td>10000.000000</td>\n",
       "      <td>10000.00000</td>\n",
       "      <td>10000.000000</td>\n",
       "      <td>10000.000000</td>\n",
       "      <td>10000.000000</td>\n",
       "      <td>10000.000000</td>\n",
       "      <td>10000.000000</td>\n",
       "      <td>10000.000000</td>\n",
       "      <td>10000.000000</td>\n",
       "      <td>10000.000000</td>\n",
       "    </tr>\n",
       "    <tr>\n",
       "      <th>mean</th>\n",
       "      <td>1.569094e+07</td>\n",
       "      <td>0.601058</td>\n",
       "      <td>0.282727</td>\n",
       "      <td>0.501280</td>\n",
       "      <td>0.304848</td>\n",
       "      <td>1.530200</td>\n",
       "      <td>0.70550</td>\n",
       "      <td>0.515100</td>\n",
       "      <td>0.500441</td>\n",
       "      <td>0.203700</td>\n",
       "      <td>0.501400</td>\n",
       "      <td>0.250900</td>\n",
       "      <td>0.247700</td>\n",
       "      <td>0.454300</td>\n",
       "      <td>0.545700</td>\n",
       "    </tr>\n",
       "    <tr>\n",
       "      <th>std</th>\n",
       "      <td>7.193619e+04</td>\n",
       "      <td>0.193307</td>\n",
       "      <td>0.141727</td>\n",
       "      <td>0.289217</td>\n",
       "      <td>0.248696</td>\n",
       "      <td>0.581654</td>\n",
       "      <td>0.45584</td>\n",
       "      <td>0.499797</td>\n",
       "      <td>0.287580</td>\n",
       "      <td>0.402769</td>\n",
       "      <td>0.500023</td>\n",
       "      <td>0.433553</td>\n",
       "      <td>0.431698</td>\n",
       "      <td>0.497932</td>\n",
       "      <td>0.497932</td>\n",
       "    </tr>\n",
       "    <tr>\n",
       "      <th>min</th>\n",
       "      <td>1.556570e+07</td>\n",
       "      <td>0.000000</td>\n",
       "      <td>0.000000</td>\n",
       "      <td>0.000000</td>\n",
       "      <td>0.000000</td>\n",
       "      <td>1.000000</td>\n",
       "      <td>0.00000</td>\n",
       "      <td>0.000000</td>\n",
       "      <td>0.000000</td>\n",
       "      <td>0.000000</td>\n",
       "      <td>0.000000</td>\n",
       "      <td>0.000000</td>\n",
       "      <td>0.000000</td>\n",
       "      <td>0.000000</td>\n",
       "      <td>0.000000</td>\n",
       "    </tr>\n",
       "    <tr>\n",
       "      <th>25%</th>\n",
       "      <td>1.562853e+07</td>\n",
       "      <td>0.468000</td>\n",
       "      <td>0.189189</td>\n",
       "      <td>0.300000</td>\n",
       "      <td>0.000000</td>\n",
       "      <td>1.000000</td>\n",
       "      <td>0.00000</td>\n",
       "      <td>0.000000</td>\n",
       "      <td>0.254977</td>\n",
       "      <td>0.000000</td>\n",
       "      <td>0.000000</td>\n",
       "      <td>0.000000</td>\n",
       "      <td>0.000000</td>\n",
       "      <td>0.000000</td>\n",
       "      <td>0.000000</td>\n",
       "    </tr>\n",
       "    <tr>\n",
       "      <th>50%</th>\n",
       "      <td>1.569074e+07</td>\n",
       "      <td>0.604000</td>\n",
       "      <td>0.256757</td>\n",
       "      <td>0.500000</td>\n",
       "      <td>0.387402</td>\n",
       "      <td>1.000000</td>\n",
       "      <td>1.00000</td>\n",
       "      <td>1.000000</td>\n",
       "      <td>0.500960</td>\n",
       "      <td>0.000000</td>\n",
       "      <td>1.000000</td>\n",
       "      <td>0.000000</td>\n",
       "      <td>0.000000</td>\n",
       "      <td>0.000000</td>\n",
       "      <td>1.000000</td>\n",
       "    </tr>\n",
       "    <tr>\n",
       "      <th>75%</th>\n",
       "      <td>1.575323e+07</td>\n",
       "      <td>0.736000</td>\n",
       "      <td>0.351351</td>\n",
       "      <td>0.700000</td>\n",
       "      <td>0.508749</td>\n",
       "      <td>2.000000</td>\n",
       "      <td>1.00000</td>\n",
       "      <td>1.000000</td>\n",
       "      <td>0.746955</td>\n",
       "      <td>0.000000</td>\n",
       "      <td>1.000000</td>\n",
       "      <td>1.000000</td>\n",
       "      <td>0.000000</td>\n",
       "      <td>1.000000</td>\n",
       "      <td>1.000000</td>\n",
       "    </tr>\n",
       "    <tr>\n",
       "      <th>max</th>\n",
       "      <td>1.581569e+07</td>\n",
       "      <td>1.000000</td>\n",
       "      <td>1.000000</td>\n",
       "      <td>1.000000</td>\n",
       "      <td>1.000000</td>\n",
       "      <td>4.000000</td>\n",
       "      <td>1.00000</td>\n",
       "      <td>1.000000</td>\n",
       "      <td>1.000000</td>\n",
       "      <td>1.000000</td>\n",
       "      <td>1.000000</td>\n",
       "      <td>1.000000</td>\n",
       "      <td>1.000000</td>\n",
       "      <td>1.000000</td>\n",
       "      <td>1.000000</td>\n",
       "    </tr>\n",
       "  </tbody>\n",
       "</table>\n",
       "</div>"
      ],
      "text/plain": [
       "        customer_id  credit_score           age        tenure       balance  \\\n",
       "count  1.000000e+04  10000.000000  10000.000000  10000.000000  10000.000000   \n",
       "mean   1.569094e+07      0.601058      0.282727      0.501280      0.304848   \n",
       "std    7.193619e+04      0.193307      0.141727      0.289217      0.248696   \n",
       "min    1.556570e+07      0.000000      0.000000      0.000000      0.000000   \n",
       "25%    1.562853e+07      0.468000      0.189189      0.300000      0.000000   \n",
       "50%    1.569074e+07      0.604000      0.256757      0.500000      0.387402   \n",
       "75%    1.575323e+07      0.736000      0.351351      0.700000      0.508749   \n",
       "max    1.581569e+07      1.000000      1.000000      1.000000      1.000000   \n",
       "\n",
       "       products_number  credit_card  active_member  estimated_salary  \\\n",
       "count     10000.000000  10000.00000   10000.000000      10000.000000   \n",
       "mean          1.530200      0.70550       0.515100          0.500441   \n",
       "std           0.581654      0.45584       0.499797          0.287580   \n",
       "min           1.000000      0.00000       0.000000          0.000000   \n",
       "25%           1.000000      0.00000       0.000000          0.254977   \n",
       "50%           1.000000      1.00000       1.000000          0.500960   \n",
       "75%           2.000000      1.00000       1.000000          0.746955   \n",
       "max           4.000000      1.00000       1.000000          1.000000   \n",
       "\n",
       "              churn  country_France  country_Germany  country_Spain  \\\n",
       "count  10000.000000    10000.000000     10000.000000   10000.000000   \n",
       "mean       0.203700        0.501400         0.250900       0.247700   \n",
       "std        0.402769        0.500023         0.433553       0.431698   \n",
       "min        0.000000        0.000000         0.000000       0.000000   \n",
       "25%        0.000000        0.000000         0.000000       0.000000   \n",
       "50%        0.000000        1.000000         0.000000       0.000000   \n",
       "75%        0.000000        1.000000         1.000000       0.000000   \n",
       "max        1.000000        1.000000         1.000000       1.000000   \n",
       "\n",
       "       gender_Female   gender_Male  \n",
       "count   10000.000000  10000.000000  \n",
       "mean        0.454300      0.545700  \n",
       "std         0.497932      0.497932  \n",
       "min         0.000000      0.000000  \n",
       "25%         0.000000      0.000000  \n",
       "50%         0.000000      1.000000  \n",
       "75%         1.000000      1.000000  \n",
       "max         1.000000      1.000000  "
      ]
     },
     "execution_count": 126,
     "metadata": {},
     "output_type": "execute_result"
    }
   ],
   "source": [
    "df2.describe()"
   ]
  },
  {
   "cell_type": "code",
   "execution_count": 201,
   "id": "2aef6a0a-9fc6-4ae1-89f4-c9669ee5371f",
   "metadata": {},
   "outputs": [
    {
     "data": {
      "text/plain": [
       "array([[1.56e+07, 5.38e-01, 3.24e-01, 0.00e+00, 1.00e+00, 1.00e+00,\n",
       "        5.07e-01, 1.00e+00, 0.00e+00, 0.00e+00, 1.00e+00, 0.00e+00],\n",
       "       [1.56e+07, 5.16e-01, 3.11e-01, 3.34e-01, 1.00e+00, 1.00e+00,\n",
       "        5.63e-01, 0.00e+00, 0.00e+00, 1.00e+00, 1.00e+00, 0.00e+00],\n",
       "       [1.56e+07, 3.04e-01, 3.24e-01, 6.36e-01, 3.00e+00, 0.00e+00,\n",
       "        5.70e-01, 1.00e+00, 0.00e+00, 0.00e+00, 1.00e+00, 0.00e+00],\n",
       "       [1.57e+07, 6.98e-01, 2.84e-01, 0.00e+00, 2.00e+00, 0.00e+00,\n",
       "        4.69e-01, 1.00e+00, 0.00e+00, 0.00e+00, 1.00e+00, 0.00e+00],\n",
       "       [1.57e+07, 1.00e+00, 3.38e-01, 5.00e-01, 1.00e+00, 1.00e+00,\n",
       "        3.95e-01, 0.00e+00, 0.00e+00, 1.00e+00, 1.00e+00, 0.00e+00]])"
      ]
     },
     "execution_count": 201,
     "metadata": {},
     "output_type": "execute_result"
    }
   ],
   "source": [
    "X = np.asarray(df2[['customer_id', 'credit_score', 'age', 'balance',\n",
    "       'products_number', 'active_member', 'estimated_salary',\n",
    "        'country_France', 'country_Germany', 'country_Spain',\n",
    "       'gender_Female', 'gender_Male']])\n",
    "X[0:5]"
   ]
  },
  {
   "cell_type": "code",
   "execution_count": 202,
   "id": "0565dd0a-c65f-4178-84ae-395919d0715d",
   "metadata": {},
   "outputs": [
    {
     "data": {
      "text/plain": [
       "array([1, 0, 1, 0, 0])"
      ]
     },
     "execution_count": 202,
     "metadata": {},
     "output_type": "execute_result"
    }
   ],
   "source": [
    "df2['churn'] = df2['churn'].astype('int')\n",
    "Y= np.asarray(df2['churn'])\n",
    "Y[0:5]"
   ]
  },
  {
   "cell_type": "markdown",
   "id": "1ff40cbb-ebeb-42c8-9f3a-35a9e82e3921",
   "metadata": {},
   "source": [
    "### Lets try ro found some clusters in data\n"
   ]
  },
  {
   "cell_type": "code",
   "execution_count": 203,
   "id": "624db873-3757-43d2-8b1d-9cc90e11d1ee",
   "metadata": {},
   "outputs": [],
   "source": [
    "from sklearn.cluster import DBSCAN \n"
   ]
  },
  {
   "cell_type": "code",
   "execution_count": 204,
   "id": "bca55505-54b4-4f4b-8049-b6be8cb67075",
   "metadata": {},
   "outputs": [
    {
     "data": {
      "text/plain": [
       "array([-1, -1, -1, ..., -1, -1, -1], dtype=int64)"
      ]
     },
     "execution_count": 204,
     "metadata": {},
     "output_type": "execute_result"
    }
   ],
   "source": [
    "epsilon = 1.16 # 2 max standart deviations\n",
    "minimumSamples = 7\n",
    "db = DBSCAN(eps=epsilon, min_samples=minimumSamples).fit(X)\n",
    "labels = db.labels_\n",
    "labels"
   ]
  },
  {
   "cell_type": "code",
   "execution_count": 205,
   "id": "3eb3bbfa-7e94-44bd-a3d7-293e31923421",
   "metadata": {},
   "outputs": [
    {
     "data": {
      "text/plain": [
       "array([False, False, False, ..., False, False, False])"
      ]
     },
     "execution_count": 205,
     "metadata": {},
     "output_type": "execute_result"
    }
   ],
   "source": [
    "# Firts, create an array of booleans using the labels from db.\n",
    "core_samples_mask = np.zeros_like(db.labels_, dtype=bool)\n",
    "core_samples_mask[db.core_sample_indices_] = True\n",
    "core_samples_mask"
   ]
  },
  {
   "cell_type": "code",
   "execution_count": 206,
   "id": "681502ed-0246-4a26-badb-c33cf159e0c6",
   "metadata": {},
   "outputs": [
    {
     "data": {
      "text/plain": [
       "0"
      ]
     },
     "execution_count": 206,
     "metadata": {},
     "output_type": "execute_result"
    }
   ],
   "source": [
    "n_clusters_ = len(set(labels)) - (1 if -1 in labels else 0)\n",
    "n_clusters_"
   ]
  },
  {
   "cell_type": "markdown",
   "id": "fd025c85-9c74-4cae-950b-98c0528a7e3c",
   "metadata": {},
   "source": [
    "### so, db scan dot se any clusters in our data\n"
   ]
  },
  {
   "cell_type": "markdown",
   "id": "27aea19b-f37b-47c0-b6e3-1b31d96a13a9",
   "metadata": {},
   "source": [
    "## Test/train split"
   ]
  },
  {
   "cell_type": "code",
   "execution_count": 207,
   "id": "de951ddb-9200-4708-8676-5fc14edd62c8",
   "metadata": {},
   "outputs": [
    {
     "name": "stdout",
     "output_type": "stream",
     "text": [
      "Train set: (8000, 12) (8000,)\n",
      "Test set: (2000, 12) (2000,)\n"
     ]
    }
   ],
   "source": [
    "\n",
    "X = preprocessing.StandardScaler().fit(X).transform(X)\n",
    "X[0:5]\n",
    "\n",
    "X_train, X_test, y_train, y_test = train_test_split( X, Y, test_size=0.2, random_state=4)\n",
    "print ('Train set:', X_train.shape,  y_train.shape)\n",
    "print ('Test set:', X_test.shape,  y_test.shape)"
   ]
  },
  {
   "cell_type": "markdown",
   "id": "962a0de8-e868-4290-90a3-651b10de6ffe",
   "metadata": {},
   "source": [
    "## Logreg"
   ]
  },
  {
   "cell_type": "code",
   "execution_count": 208,
   "id": "7358d384-77e9-49d9-adf9-e0ea57bfdf1f",
   "metadata": {},
   "outputs": [
    {
     "data": {
      "text/plain": [
       "LogisticRegression(C=0.01, solver='liblinear')"
      ]
     },
     "execution_count": 208,
     "metadata": {},
     "output_type": "execute_result"
    }
   ],
   "source": [
    "LR = LogisticRegression(C=0.01, solver='liblinear').fit(X_train,y_train)\n",
    "LR"
   ]
  },
  {
   "cell_type": "code",
   "execution_count": 209,
   "id": "5fa79f98-1155-446f-b9f7-80363663b646",
   "metadata": {},
   "outputs": [
    {
     "data": {
      "text/plain": [
       "array([0, 0, 0, ..., 0, 0, 0])"
      ]
     },
     "execution_count": 209,
     "metadata": {},
     "output_type": "execute_result"
    }
   ],
   "source": [
    "yhat = LR.predict(X_test)\n",
    "yhat"
   ]
  },
  {
   "cell_type": "code",
   "execution_count": 210,
   "id": "d23084df-ad52-44b5-9128-d255ab4d62a6",
   "metadata": {},
   "outputs": [
    {
     "data": {
      "text/plain": [
       "array([[0.73, 0.27],\n",
       "       [0.83, 0.17],\n",
       "       [0.87, 0.13],\n",
       "       ...,\n",
       "       [0.71, 0.29],\n",
       "       [0.63, 0.37],\n",
       "       [0.85, 0.15]])"
      ]
     },
     "execution_count": 210,
     "metadata": {},
     "output_type": "execute_result"
    }
   ],
   "source": [
    "yhat_prob = LR.predict_proba(X_test)\n",
    "yhat_prob"
   ]
  },
  {
   "cell_type": "code",
   "execution_count": 211,
   "id": "e4fa257f-a7f1-45c6-bb76-601a5bb29eb9",
   "metadata": {},
   "outputs": [
    {
     "data": {
      "text/plain": [
       "0.8137100994243851"
      ]
     },
     "execution_count": 211,
     "metadata": {},
     "output_type": "execute_result"
    }
   ],
   "source": [
    "\n",
    "jaccard_score(y_test, yhat,pos_label=0)"
   ]
  },
  {
   "cell_type": "markdown",
   "id": "cff58104-d216-46ed-ae55-f0c20633f1c4",
   "metadata": {},
   "source": [
    "### Greed search\n"
   ]
  },
  {
   "cell_type": "code",
   "execution_count": 212,
   "id": "2b40b182-47c9-4d74-98f1-cbe7487f933e",
   "metadata": {},
   "outputs": [
    {
     "name": "stdout",
     "output_type": "stream",
     "text": [
      "tuned hpyerparameters :(best parameters)  {'C': 0.01, 'penalty': 'l2'}\n",
      "accuracy : 0.8092499999999999\n"
     ]
    }
   ],
   "source": [
    "\n",
    "grid={\"C\":np.logspace(-3,3,7), \"penalty\":[\"l2\"]}\n",
    "logreg=LogisticRegression()\n",
    "logreg_cv=GridSearchCV(logreg,grid,cv=10,error_score='raise')\n",
    "logreg_cv.fit(X_train,y_train)\n",
    "\n",
    "print(\"tuned hpyerparameters :(best parameters) \",logreg_cv.best_params_)\n",
    "print(\"accuracy :\",logreg_cv.best_score_)"
   ]
  },
  {
   "cell_type": "code",
   "execution_count": 221,
   "id": "b0158c4a-7f19-498f-b2b4-e8f53e678028",
   "metadata": {},
   "outputs": [
    {
     "name": "stdout",
     "output_type": "stream",
     "text": [
      "score 0.824\n"
     ]
    }
   ],
   "source": [
    "logreg2=LogisticRegression(C=0.01,penalty=\"l2\")\n",
    "logreg2.fit(X_train,y_train)\n",
    "print(\"score\",logreg2.score(X_test,y_test))"
   ]
  },
  {
   "cell_type": "code",
   "execution_count": null,
   "id": "cf2069fc-7a43-4c05-aec7-95eca922a4c9",
   "metadata": {},
   "outputs": [],
   "source": []
  },
  {
   "cell_type": "code",
   "execution_count": 222,
   "id": "e43211e6-f086-4c07-b0a2-e7beca7699c0",
   "metadata": {},
   "outputs": [
    {
     "data": {
      "text/plain": [
       "array([[0.73, 0.27],\n",
       "       [0.83, 0.17],\n",
       "       [0.87, 0.13],\n",
       "       ...,\n",
       "       [0.71, 0.29],\n",
       "       [0.63, 0.37],\n",
       "       [0.85, 0.15]])"
      ]
     },
     "execution_count": 222,
     "metadata": {},
     "output_type": "execute_result"
    }
   ],
   "source": [
    "yhat=logreg2.predict(X_test)\n",
    "yhat_prob"
   ]
  },
  {
   "cell_type": "code",
   "execution_count": 223,
   "id": "0bb3ac24-b490-4e62-b38f-ac7904eae5c3",
   "metadata": {},
   "outputs": [
    {
     "name": "stdout",
     "output_type": "stream",
     "text": [
      "Confusion matrix, without normalization\n",
      "[[  87  309]\n",
      " [  43 1561]]\n"
     ]
    },
    {
     "data": {
      "image/png": "[encoded data removed]",
      "text/plain": [
       "<Figure size 432x288 with 2 Axes>"
      ]
     },
     "metadata": {
      "needs_background": "light"
     },
     "output_type": "display_data"
    }
   ],
   "source": [
    "cnf_matrix = confusion_matrix(y_test, yhat, labels=[1,0])\n",
    "np.set_printoptions(precision=2)\n",
    "\n",
    "\n",
    "# Plot non-normalized confusion matrix\n",
    "plt.figure()\n",
    "plot_confusion_matrix(cnf_matrix, classes=['churn=1','churn=0'],normalize= False,  title='Confusion matrix')"
   ]
  },
  {
   "cell_type": "code",
   "execution_count": 224,
   "id": "6d88ef8f-f23e-4f0d-85c3-96edbf722031",
   "metadata": {},
   "outputs": [
    {
     "name": "stdout",
     "output_type": "stream",
     "text": [
      "              precision    recall  f1-score   support\n",
      "\n",
      "           0       0.83      0.97      0.90      1604\n",
      "           1       0.67      0.22      0.33       396\n",
      "\n",
      "    accuracy                           0.82      2000\n",
      "   macro avg       0.75      0.60      0.61      2000\n",
      "weighted avg       0.80      0.82      0.79      2000\n",
      "\n"
     ]
    }
   ],
   "source": [
    "print (classification_report(y_test, yhat))"
   ]
  },
  {
   "cell_type": "markdown",
   "id": "c29acef8-92ec-44e3-babd-07ea82ad43e0",
   "metadata": {},
   "source": [
    "### False-negativ score extrimly high, lets try something else."
   ]
  },
  {
   "cell_type": "markdown",
   "id": "bdc65a1c-de26-4da5-85a0-75c8acb4a34d",
   "metadata": {},
   "source": [
    "## Random forest"
   ]
  },
  {
   "cell_type": "code",
   "execution_count": 225,
   "id": "cec3f98e-c928-426d-80f2-7169838c5b92",
   "metadata": {},
   "outputs": [],
   "source": [
    "from sklearn.ensemble import RandomForestClassifier\n",
    "from sklearn.datasets import make_classification"
   ]
  },
  {
   "cell_type": "code",
   "execution_count": 226,
   "id": "33cbb089-b8bc-4ecb-9804-55e0967827d4",
   "metadata": {},
   "outputs": [],
   "source": [
    "rfc=RandomForestClassifier(random_state=42)"
   ]
  },
  {
   "cell_type": "markdown",
   "id": "8b229342-9fbf-4160-8226-2d4cd0684081",
   "metadata": {},
   "source": [
    "### Grid search"
   ]
  },
  {
   "cell_type": "code",
   "execution_count": 227,
   "id": "d97c516c-3d6f-46c0-9ab9-371671a00fe2",
   "metadata": {},
   "outputs": [],
   "source": [
    "param_grid = { \n",
    "    'n_estimators': [200, 500],\n",
    "    'max_features': ['auto', 'sqrt', 'log2'],\n",
    "    'max_depth' : [4,5,6,7,8],\n",
    "    'criterion' :['gini', 'entropy']\n",
    "}"
   ]
  },
  {
   "cell_type": "code",
   "execution_count": 228,
   "id": "3d4683f2-df8a-4a25-a4b3-9aed177f5dbc",
   "metadata": {},
   "outputs": [
    {
     "data": {
      "text/plain": [
       "GridSearchCV(cv=5, estimator=RandomForestClassifier(random_state=42),\n",
       "             param_grid={'criterion': ['gini', 'entropy'],\n",
       "                         'max_depth': [4, 5, 6, 7, 8],\n",
       "                         'max_features': ['auto', 'sqrt', 'log2'],\n",
       "                         'n_estimators': [200, 500]})"
      ]
     },
     "execution_count": 228,
     "metadata": {},
     "output_type": "execute_result"
    }
   ],
   "source": [
    "CV_rfc = GridSearchCV(estimator=rfc, param_grid=param_grid, cv= 5)\n",
    "CV_rfc.fit(X_train,y_train)"
   ]
  },
  {
   "cell_type": "code",
   "execution_count": 229,
   "id": "5aa805b7-c256-4da6-9aed-a30b71991d52",
   "metadata": {},
   "outputs": [
    {
     "data": {
      "text/plain": [
       "{'criterion': 'gini',\n",
       " 'max_depth': 8,\n",
       " 'max_features': 'auto',\n",
       " 'n_estimators': 200}"
      ]
     },
     "execution_count": 229,
     "metadata": {},
     "output_type": "execute_result"
    }
   ],
   "source": [
    "CV_rfc.best_params_"
   ]
  },
  {
   "cell_type": "code",
   "execution_count": 230,
   "id": "4a2b0cde-36ac-41dd-ac91-5e6c77382879",
   "metadata": {},
   "outputs": [],
   "source": [
    "rfc1=RandomForestClassifier(random_state=42, max_features='auto', n_estimators= 200, max_depth=8, criterion='gini')"
   ]
  },
  {
   "cell_type": "code",
   "execution_count": 231,
   "id": "eb3a0c57-96b3-4aa6-80a8-8dd995b3e566",
   "metadata": {},
   "outputs": [
    {
     "data": {
      "text/plain": [
       "RandomForestClassifier(max_depth=8, n_estimators=200, random_state=42)"
      ]
     },
     "execution_count": 231,
     "metadata": {},
     "output_type": "execute_result"
    }
   ],
   "source": [
    "rfc1.fit(X_train,y_train)"
   ]
  },
  {
   "cell_type": "code",
   "execution_count": 232,
   "id": "01d66d84-276e-4e45-9599-938a7a58dc18",
   "metadata": {},
   "outputs": [],
   "source": [
    "pred=rfc1.predict(X_test)"
   ]
  },
  {
   "cell_type": "code",
   "execution_count": null,
   "id": "1cb82f14-6b98-45e4-a744-fee1301fbad5",
   "metadata": {},
   "outputs": [],
   "source": []
  },
  {
   "cell_type": "code",
   "execution_count": 233,
   "id": "81c1f978-cc1f-4b9c-8fac-11e583bd177a",
   "metadata": {},
   "outputs": [
    {
     "name": "stdout",
     "output_type": "stream",
     "text": [
      "Accuracy for Random Forest on CV data:  0.8675\n"
     ]
    }
   ],
   "source": [
    "print(\"Accuracy for Random Forest on CV data: \",accuracy_score(y_test,pred))"
   ]
  },
  {
   "cell_type": "code",
   "execution_count": 234,
   "id": "22b0cbb5-6786-4370-a75f-7ae75e07a3a4",
   "metadata": {},
   "outputs": [
    {
     "name": "stdout",
     "output_type": "stream",
     "text": [
      "Confusion matrix, without normalization\n",
      "[[ 171  225]\n",
      " [  40 1564]]\n"
     ]
    },
    {
     "data": {
      "image/png": "[encoded data removed]",
      "text/plain": [
       "<Figure size 432x288 with 2 Axes>"
      ]
     },
     "metadata": {
      "needs_background": "light"
     },
     "output_type": "display_data"
    }
   ],
   "source": [
    "cnf_matrix = confusion_matrix(y_test, pred, labels=[1,0])\n",
    "np.set_printoptions(precision=2)\n",
    "\n",
    "\n",
    "# Plot non-normalized confusion matrix\n",
    "plt.figure()\n",
    "plot_confusion_matrix(cnf_matrix, classes=['churn=1','churn=0'],normalize= False,  title='Confusion matrix')"
   ]
  },
  {
   "cell_type": "code",
   "execution_count": 235,
   "id": "a4b89796-3826-417d-8c83-38b503ae7505",
   "metadata": {},
   "outputs": [
    {
     "name": "stdout",
     "output_type": "stream",
     "text": [
      "              precision    recall  f1-score   support\n",
      "\n",
      "           0       0.83      0.97      0.90      1604\n",
      "           1       0.67      0.22      0.33       396\n",
      "\n",
      "    accuracy                           0.82      2000\n",
      "   macro avg       0.75      0.60      0.61      2000\n",
      "weighted avg       0.80      0.82      0.79      2000\n",
      "\n"
     ]
    }
   ],
   "source": [
    "print (classification_report(y_test, yhat))"
   ]
  },
  {
   "cell_type": "code",
   "execution_count": 236,
   "id": "7c834bef-2c6a-49bd-bf6d-2df3a2c92d23",
   "metadata": {},
   "outputs": [
    {
     "data": {
      "text/html": [
       "<div>\n",
       "<style scoped>\n",
       "    .dataframe tbody tr th:only-of-type {\n",
       "        vertical-align: middle;\n",
       "    }\n",
       "\n",
       "    .dataframe tbody tr th {\n",
       "        vertical-align: top;\n",
       "    }\n",
       "\n",
       "    .dataframe thead th {\n",
       "        text-align: right;\n",
       "    }\n",
       "</style>\n",
       "<table border=\"1\" class=\"dataframe\">\n",
       "  <thead>\n",
       "    <tr style=\"text-align: right;\">\n",
       "      <th></th>\n",
       "      <th>customer_id</th>\n",
       "      <th>credit_score</th>\n",
       "      <th>country</th>\n",
       "      <th>gender</th>\n",
       "      <th>age</th>\n",
       "      <th>tenure</th>\n",
       "      <th>balance</th>\n",
       "      <th>products_number</th>\n",
       "      <th>credit_card</th>\n",
       "      <th>active_member</th>\n",
       "      <th>estimated_salary</th>\n",
       "    </tr>\n",
       "    <tr>\n",
       "      <th>churn</th>\n",
       "      <th></th>\n",
       "      <th></th>\n",
       "      <th></th>\n",
       "      <th></th>\n",
       "      <th></th>\n",
       "      <th></th>\n",
       "      <th></th>\n",
       "      <th></th>\n",
       "      <th></th>\n",
       "      <th></th>\n",
       "      <th></th>\n",
       "    </tr>\n",
       "  </thead>\n",
       "  <tbody>\n",
       "    <tr>\n",
       "      <th>0</th>\n",
       "      <td>7963</td>\n",
       "      <td>7963</td>\n",
       "      <td>7963</td>\n",
       "      <td>7963</td>\n",
       "      <td>7963</td>\n",
       "      <td>7963</td>\n",
       "      <td>7963</td>\n",
       "      <td>7963</td>\n",
       "      <td>7963</td>\n",
       "      <td>7963</td>\n",
       "      <td>7963</td>\n",
       "    </tr>\n",
       "    <tr>\n",
       "      <th>1</th>\n",
       "      <td>2037</td>\n",
       "      <td>2037</td>\n",
       "      <td>2037</td>\n",
       "      <td>2037</td>\n",
       "      <td>2037</td>\n",
       "      <td>2037</td>\n",
       "      <td>2037</td>\n",
       "      <td>2037</td>\n",
       "      <td>2037</td>\n",
       "      <td>2037</td>\n",
       "      <td>2037</td>\n",
       "    </tr>\n",
       "  </tbody>\n",
       "</table>\n",
       "</div>"
      ],
      "text/plain": [
       "       customer_id  credit_score  country  gender   age  tenure  balance  \\\n",
       "churn                                                                      \n",
       "0             7963          7963     7963    7963  7963    7963     7963   \n",
       "1             2037          2037     2037    2037  2037    2037     2037   \n",
       "\n",
       "       products_number  credit_card  active_member  estimated_salary  \n",
       "churn                                                                 \n",
       "0                 7963         7963           7963              7963  \n",
       "1                 2037         2037           2037              2037  "
      ]
     },
     "execution_count": 236,
     "metadata": {},
     "output_type": "execute_result"
    }
   ],
   "source": [
    "df.groupby('churn').agg('count')"
   ]
  },
  {
   "cell_type": "markdown",
   "id": "a2ab71bf-60df-4c0c-8faa-c60009b22a52",
   "metadata": {},
   "source": [
    "### False-negativ results not better\n"
   ]
  },
  {
   "cell_type": "markdown",
   "id": "c3a76a67-8f66-4523-a2c0-3641b66b542d",
   "metadata": {},
   "source": [
    "## Lets try to change sample\n"
   ]
  },
  {
   "cell_type": "code",
   "execution_count": 237,
   "id": "2e40102c-4eaf-43d4-888e-8b6ba9162b8a",
   "metadata": {},
   "outputs": [
    {
     "data": {
      "text/plain": [
       "(7963, 15)"
      ]
     },
     "execution_count": 237,
     "metadata": {},
     "output_type": "execute_result"
    }
   ],
   "source": [
    "df_0=df2.loc[df['churn'] == 0]\n",
    "df_0.shape"
   ]
  },
  {
   "cell_type": "code",
   "execution_count": 238,
   "id": "c55a113f-09ec-4824-aa06-50ef714378f1",
   "metadata": {},
   "outputs": [
    {
     "data": {
      "text/plain": [
       "(2037, 15)"
      ]
     },
     "execution_count": 238,
     "metadata": {},
     "output_type": "execute_result"
    }
   ],
   "source": [
    "df_1=df2.loc[df['churn'] == 1]\n",
    "df_1.shape"
   ]
  },
  {
   "cell_type": "code",
   "execution_count": 239,
   "id": "279c0932-9a1f-44a1-975e-a3c70ab546d9",
   "metadata": {},
   "outputs": [
    {
     "data": {
      "text/plain": [
       "(2037, 15)"
      ]
     },
     "execution_count": 239,
     "metadata": {},
     "output_type": "execute_result"
    }
   ],
   "source": [
    "df_0s=df_0.sample(n=2037)\n",
    "df_0s.shape"
   ]
  },
  {
   "cell_type": "code",
   "execution_count": 240,
   "id": "273a85f1-313a-4aee-b7af-3abf63704bd4",
   "metadata": {},
   "outputs": [
    {
     "data": {
      "text/html": [
       "<div>\n",
       "<style scoped>\n",
       "    .dataframe tbody tr th:only-of-type {\n",
       "        vertical-align: middle;\n",
       "    }\n",
       "\n",
       "    .dataframe tbody tr th {\n",
       "        vertical-align: top;\n",
       "    }\n",
       "\n",
       "    .dataframe thead th {\n",
       "        text-align: right;\n",
       "    }\n",
       "</style>\n",
       "<table border=\"1\" class=\"dataframe\">\n",
       "  <thead>\n",
       "    <tr style=\"text-align: right;\">\n",
       "      <th></th>\n",
       "      <th>customer_id</th>\n",
       "      <th>credit_score</th>\n",
       "      <th>age</th>\n",
       "      <th>tenure</th>\n",
       "      <th>balance</th>\n",
       "      <th>products_number</th>\n",
       "      <th>credit_card</th>\n",
       "      <th>active_member</th>\n",
       "      <th>estimated_salary</th>\n",
       "      <th>churn</th>\n",
       "      <th>country_France</th>\n",
       "      <th>country_Germany</th>\n",
       "      <th>country_Spain</th>\n",
       "      <th>gender_Female</th>\n",
       "      <th>gender_Male</th>\n",
       "    </tr>\n",
       "  </thead>\n",
       "  <tbody>\n",
       "    <tr>\n",
       "      <th>7217</th>\n",
       "      <td>15720353</td>\n",
       "      <td>0.406</td>\n",
       "      <td>0.310811</td>\n",
       "      <td>0.1</td>\n",
       "      <td>0.000000</td>\n",
       "      <td>2</td>\n",
       "      <td>1</td>\n",
       "      <td>0</td>\n",
       "      <td>0.453022</td>\n",
       "      <td>0</td>\n",
       "      <td>1</td>\n",
       "      <td>0</td>\n",
       "      <td>0</td>\n",
       "      <td>0</td>\n",
       "      <td>1</td>\n",
       "    </tr>\n",
       "    <tr>\n",
       "      <th>9606</th>\n",
       "      <td>15678057</td>\n",
       "      <td>0.348</td>\n",
       "      <td>0.351351</td>\n",
       "      <td>1.0</td>\n",
       "      <td>0.472578</td>\n",
       "      <td>2</td>\n",
       "      <td>0</td>\n",
       "      <td>0</td>\n",
       "      <td>0.410567</td>\n",
       "      <td>0</td>\n",
       "      <td>1</td>\n",
       "      <td>0</td>\n",
       "      <td>0</td>\n",
       "      <td>0</td>\n",
       "      <td>1</td>\n",
       "    </tr>\n",
       "    <tr>\n",
       "      <th>9953</th>\n",
       "      <td>15655952</td>\n",
       "      <td>0.400</td>\n",
       "      <td>0.391892</td>\n",
       "      <td>0.2</td>\n",
       "      <td>0.000000</td>\n",
       "      <td>2</td>\n",
       "      <td>1</td>\n",
       "      <td>1</td>\n",
       "      <td>0.485275</td>\n",
       "      <td>0</td>\n",
       "      <td>1</td>\n",
       "      <td>0</td>\n",
       "      <td>0</td>\n",
       "      <td>0</td>\n",
       "      <td>1</td>\n",
       "    </tr>\n",
       "    <tr>\n",
       "      <th>5286</th>\n",
       "      <td>15690540</td>\n",
       "      <td>0.668</td>\n",
       "      <td>0.310811</td>\n",
       "      <td>0.1</td>\n",
       "      <td>0.534787</td>\n",
       "      <td>1</td>\n",
       "      <td>0</td>\n",
       "      <td>0</td>\n",
       "      <td>0.887560</td>\n",
       "      <td>0</td>\n",
       "      <td>0</td>\n",
       "      <td>0</td>\n",
       "      <td>1</td>\n",
       "      <td>1</td>\n",
       "      <td>0</td>\n",
       "    </tr>\n",
       "    <tr>\n",
       "      <th>9605</th>\n",
       "      <td>15733444</td>\n",
       "      <td>0.772</td>\n",
       "      <td>0.148649</td>\n",
       "      <td>0.9</td>\n",
       "      <td>0.000000</td>\n",
       "      <td>2</td>\n",
       "      <td>0</td>\n",
       "      <td>0</td>\n",
       "      <td>0.880790</td>\n",
       "      <td>0</td>\n",
       "      <td>1</td>\n",
       "      <td>0</td>\n",
       "      <td>0</td>\n",
       "      <td>1</td>\n",
       "      <td>0</td>\n",
       "    </tr>\n",
       "  </tbody>\n",
       "</table>\n",
       "</div>"
      ],
      "text/plain": [
       "      customer_id  credit_score       age  tenure   balance  products_number  \\\n",
       "7217     15720353         0.406  0.310811     0.1  0.000000                2   \n",
       "9606     15678057         0.348  0.351351     1.0  0.472578                2   \n",
       "9953     15655952         0.400  0.391892     0.2  0.000000                2   \n",
       "5286     15690540         0.668  0.310811     0.1  0.534787                1   \n",
       "9605     15733444         0.772  0.148649     0.9  0.000000                2   \n",
       "\n",
       "      credit_card  active_member  estimated_salary  churn  country_France  \\\n",
       "7217            1              0          0.453022      0               1   \n",
       "9606            0              0          0.410567      0               1   \n",
       "9953            1              1          0.485275      0               1   \n",
       "5286            0              0          0.887560      0               0   \n",
       "9605            0              0          0.880790      0               1   \n",
       "\n",
       "      country_Germany  country_Spain  gender_Female  gender_Male  \n",
       "7217                0              0              0            1  \n",
       "9606                0              0              0            1  \n",
       "9953                0              0              0            1  \n",
       "5286                0              1              1            0  \n",
       "9605                0              0              1            0  "
      ]
     },
     "execution_count": 240,
     "metadata": {},
     "output_type": "execute_result"
    }
   ],
   "source": [
    "df_0s.head()"
   ]
  },
  {
   "cell_type": "code",
   "execution_count": 241,
   "id": "58d340e6-af74-40f4-8cc5-202de097397f",
   "metadata": {},
   "outputs": [
    {
     "data": {
      "text/plain": [
       "(4074, 15)"
      ]
     },
     "execution_count": 241,
     "metadata": {},
     "output_type": "execute_result"
    }
   ],
   "source": [
    "df_eq = pd.concat([df_0s, df_1])\n",
    "df_eq.shape"
   ]
  },
  {
   "cell_type": "code",
   "execution_count": 242,
   "id": "7a0a11c6-5ceb-48cf-9c9c-144df5e497fb",
   "metadata": {},
   "outputs": [
    {
     "data": {
      "text/plain": [
       "array([[1.57e+07, 4.06e-01, 3.11e-01, 0.00e+00, 2.00e+00, 0.00e+00,\n",
       "        4.53e-01, 1.00e+00, 0.00e+00, 0.00e+00, 0.00e+00, 1.00e+00],\n",
       "       [1.57e+07, 3.48e-01, 3.51e-01, 4.73e-01, 2.00e+00, 0.00e+00,\n",
       "        4.11e-01, 1.00e+00, 0.00e+00, 0.00e+00, 0.00e+00, 1.00e+00],\n",
       "       [1.57e+07, 4.00e-01, 3.92e-01, 0.00e+00, 2.00e+00, 1.00e+00,\n",
       "        4.85e-01, 1.00e+00, 0.00e+00, 0.00e+00, 0.00e+00, 1.00e+00],\n",
       "       [1.57e+07, 6.68e-01, 3.11e-01, 5.35e-01, 1.00e+00, 0.00e+00,\n",
       "        8.88e-01, 0.00e+00, 0.00e+00, 1.00e+00, 1.00e+00, 0.00e+00],\n",
       "       [1.57e+07, 7.72e-01, 1.49e-01, 0.00e+00, 2.00e+00, 0.00e+00,\n",
       "        8.81e-01, 1.00e+00, 0.00e+00, 0.00e+00, 1.00e+00, 0.00e+00]])"
      ]
     },
     "execution_count": 242,
     "metadata": {},
     "output_type": "execute_result"
    }
   ],
   "source": [
    "X1 = np.asarray(df_eq[['customer_id', 'credit_score', 'age', 'balance',\n",
    "       'products_number', 'active_member', 'estimated_salary',\n",
    "        'country_France', 'country_Germany', 'country_Spain',\n",
    "       'gender_Female', 'gender_Male']])\n",
    "X1[0:5]"
   ]
  },
  {
   "cell_type": "code",
   "execution_count": 243,
   "id": "2923e75f-d0d4-4e50-bbf2-b105860beae2",
   "metadata": {},
   "outputs": [
    {
     "data": {
      "text/plain": [
       "array([0, 0, 0, 0, 0])"
      ]
     },
     "execution_count": 243,
     "metadata": {},
     "output_type": "execute_result"
    }
   ],
   "source": [
    "df_eq['churn'] = df_eq['churn'].astype('int')\n",
    "Y1= np.asarray(df_eq['churn'])\n",
    "Y1[0:5]"
   ]
  },
  {
   "cell_type": "code",
   "execution_count": 244,
   "id": "8de8dde5-a676-4dc5-8ac0-fe20d2a7219b",
   "metadata": {},
   "outputs": [
    {
     "name": "stdout",
     "output_type": "stream",
     "text": [
      "Train set: (3259, 12) (3259,)\n",
      "Test set: (815, 12) (815,)\n"
     ]
    }
   ],
   "source": [
    "X1_train, X1_test, y1_train, y1_test = train_test_split( X1, Y1, test_size=0.2, random_state=4)\n",
    "print ('Train set:', X1_train.shape,  y1_train.shape)\n",
    "print ('Test set:', X1_test.shape,  y1_test.shape)"
   ]
  },
  {
   "cell_type": "code",
   "execution_count": 246,
   "id": "fb2ae811-b2f4-4175-bc92-5ff815276a24",
   "metadata": {},
   "outputs": [
    {
     "data": {
      "text/plain": [
       "GridSearchCV(cv=5, estimator=RandomForestClassifier(random_state=42),\n",
       "             param_grid={'criterion': ['gini', 'entropy'],\n",
       "                         'max_depth': [4, 5, 6, 7, 8],\n",
       "                         'max_features': ['auto', 'sqrt', 'log2'],\n",
       "                         'n_estimators': [200, 500]})"
      ]
     },
     "execution_count": 246,
     "metadata": {},
     "output_type": "execute_result"
    }
   ],
   "source": [
    "CV_rfc1 = GridSearchCV(estimator=rfc, param_grid=param_grid, cv= 5)\n",
    "CV_rfc1.fit(X1_train,y1_train)"
   ]
  },
  {
   "cell_type": "code",
   "execution_count": 247,
   "id": "08095c11-1269-471e-a866-c4af7b2ea4b6",
   "metadata": {},
   "outputs": [
    {
     "data": {
      "text/plain": [
       "{'criterion': 'gini',\n",
       " 'max_depth': 5,\n",
       " 'max_features': 'auto',\n",
       " 'n_estimators': 200}"
      ]
     },
     "execution_count": 247,
     "metadata": {},
     "output_type": "execute_result"
    }
   ],
   "source": [
    "CV_rfc1.best_params_"
   ]
  },
  {
   "cell_type": "code",
   "execution_count": 248,
   "id": "e90d2a36-4894-4313-ab4b-d6122ce59241",
   "metadata": {},
   "outputs": [],
   "source": [
    "rfc2=RandomForestClassifier(random_state=42, max_features='auto', n_estimators= 200, max_depth=5, criterion='entropy')"
   ]
  },
  {
   "cell_type": "code",
   "execution_count": 249,
   "id": "4ba64f4c-bb49-4860-81c5-e3e21c01a37b",
   "metadata": {},
   "outputs": [
    {
     "data": {
      "text/plain": [
       "RandomForestClassifier(criterion='entropy', max_depth=5, n_estimators=200,\n",
       "                       random_state=42)"
      ]
     },
     "execution_count": 249,
     "metadata": {},
     "output_type": "execute_result"
    }
   ],
   "source": [
    "rfc2.fit(X1_train,y1_train)"
   ]
  },
  {
   "cell_type": "code",
   "execution_count": 255,
   "id": "2fb0252d-58c8-4bc2-84ae-c5a30abbd5eb",
   "metadata": {},
   "outputs": [],
   "source": [
    "pred2=rfc2.predict(X_test)"
   ]
  },
  {
   "cell_type": "code",
   "execution_count": 257,
   "id": "0e472729-6f3a-4719-af6f-b45cc687803c",
   "metadata": {},
   "outputs": [
    {
     "name": "stdout",
     "output_type": "stream",
     "text": [
      "Accuracy for Random Forest on CV data:  0.616\n"
     ]
    }
   ],
   "source": [
    "print(\"Accuracy for Random Forest on CV data: \",accuracy_score(y_test,pred2))"
   ]
  },
  {
   "cell_type": "code",
   "execution_count": 258,
   "id": "09e57a79-9d5b-452c-af9c-8d1729964dc0",
   "metadata": {},
   "outputs": [
    {
     "name": "stdout",
     "output_type": "stream",
     "text": [
      "Confusion matrix, without normalization\n",
      "[[324  72]\n",
      " [696 908]]\n"
     ]
    },
    {
     "data": {
      "image/png": "[encoded data removed]",
      "text/plain": [
       "<Figure size 432x288 with 2 Axes>"
      ]
     },
     "metadata": {
      "needs_background": "light"
     },
     "output_type": "display_data"
    }
   ],
   "source": [
    "cnf_matrix = confusion_matrix(y_test, pred2, labels=[1,0])\n",
    "np.set_printoptions(precision=2)\n",
    "\n",
    "\n",
    "# Plot non-normalized confusion matrix\n",
    "plt.figure()\n",
    "plot_confusion_matrix(cnf_matrix, classes=['churn=1','churn=0'],normalize= False,  title='Confusion matrix')"
   ]
  },
  {
   "cell_type": "markdown",
   "id": "3b325e1c-a55e-40fa-a97e-639368173ac3",
   "metadata": {},
   "source": [
    "### As we see using balanced method for train set dramatically increase false-negative mistakes number"
   ]
  },
  {
   "cell_type": "code",
   "execution_count": 261,
   "id": "e2b5942b-6c57-420c-8cea-7bfd61130cfe",
   "metadata": {},
   "outputs": [
    {
     "name": "stdout",
     "output_type": "stream",
     "text": [
      "Train set: (6000, 12) (6000,)\n",
      "Test set: (4000, 12) (4000,)\n"
     ]
    }
   ],
   "source": [
    "X2_train, X2_test, y2_train, y2_test = train_test_split( X, Y, test_size=0.4, random_state=4)\n",
    "print ('Train set:', X2_train.shape,  y2_train.shape)\n",
    "print ('Test set:', X2_test.shape,  y2_test.shape)"
   ]
  },
  {
   "cell_type": "markdown",
   "id": "c9c08fa1-af52-4fae-a64f-5e81906155de",
   "metadata": {},
   "source": [
    "## Logreg2"
   ]
  },
  {
   "cell_type": "code",
   "execution_count": 262,
   "id": "edb2ab1d-a0d1-4e6b-9e13-3c83b249f06a",
   "metadata": {},
   "outputs": [
    {
     "name": "stdout",
     "output_type": "stream",
     "text": [
      "tuned hpyerparameters :(best parameters)  {'C': 0.001, 'penalty': 'l2'}\n",
      "accuracy : 0.5038357715903727\n"
     ]
    }
   ],
   "source": [
    "grid={\"C\":np.logspace(-3,3,7), \"penalty\":[\"l2\"]}\n",
    "logreg=LogisticRegression()\n",
    "logreg_cv=GridSearchCV(logreg,grid,cv=10,error_score='raise')\n",
    "logreg_cv.fit(X1_train,y1_train)\n",
    "\n",
    "print(\"tuned hpyerparameters :(best parameters) \",logreg_cv.best_params_)\n",
    "print(\"accuracy :\",logreg_cv.best_score_)"
   ]
  },
  {
   "cell_type": "code",
   "execution_count": 263,
   "id": "8c7420da-6f21-4b00-aabd-1d9bb4d3b1ed",
   "metadata": {},
   "outputs": [
    {
     "name": "stdout",
     "output_type": "stream",
     "text": [
      "score 0.48466257668711654\n"
     ]
    }
   ],
   "source": [
    "logreg2=LogisticRegression(C=0.001,penalty=\"l2\")\n",
    "logreg2.fit(X1_train,y1_train)\n",
    "print(\"score\",logreg2.score(X1_test,y1_test))"
   ]
  },
  {
   "cell_type": "markdown",
   "id": "b56fe267-ad2d-46d9-9cae-921e013ace90",
   "metadata": {},
   "source": [
    "# Neural network"
   ]
  },
  {
   "cell_type": "markdown",
   "id": "6f264d41-2940-48d9-940b-b9894c5e0f46",
   "metadata": {},
   "source": [
    "###  Lets try to use neural netvork to increase our results"
   ]
  },
  {
   "cell_type": "code",
   "execution_count": 375,
   "id": "6250ae17-e013-4f1e-ae11-2e12a68a42c8",
   "metadata": {},
   "outputs": [
    {
     "name": "stdout",
     "output_type": "stream",
     "text": [
      "Model: \"sequential_16\"\n",
      "_________________________________________________________________\n",
      " Layer (type)                Output Shape              Param #   \n",
      "=================================================================\n",
      " dense_72 (Dense)            (None, 12)                156       \n",
      "                                                                 \n",
      " dense_73 (Dense)            (None, 8)                 104       \n",
      "                                                                 \n",
      " dense_74 (Dense)            (None, 1)                 9         \n",
      "                                                                 \n",
      "=================================================================\n",
      "Total params: 269\n",
      "Trainable params: 269\n",
      "Non-trainable params: 0\n",
      "_________________________________________________________________\n",
      "None\n"
     ]
    }
   ],
   "source": [
    "model = Sequential()\n",
    "model.add(Dense(12, input_shape=(12,), activation='relu'))\n",
    "model.add(Dense(8, activation='relu'))\n",
    "#model.add(Dense(8, activation='relu'))\n",
    "model.add(Dense(1, activation='sigmoid'))\n",
    "\n",
    "print(model.summary())"
   ]
  },
  {
   "cell_type": "code",
   "execution_count": 376,
   "id": "1cbe6b4d-4a69-42ed-a1a9-b4b600223491",
   "metadata": {},
   "outputs": [
    {
     "data": {
      "text/plain": [
       "(8000, 12)"
      ]
     },
     "execution_count": 376,
     "metadata": {},
     "output_type": "execute_result"
    }
   ],
   "source": [
    "X_train.shape"
   ]
  },
  {
   "cell_type": "code",
   "execution_count": 377,
   "id": "6a92f97d-a5e7-46da-881a-3d85e9f19070",
   "metadata": {},
   "outputs": [],
   "source": [
    "model.compile(loss='binary_crossentropy', optimizer='adam', metrics=['accuracy'])"
   ]
  },
  {
   "cell_type": "code",
   "execution_count": 378,
   "id": "6f3e8374-c802-4a6a-bf6c-76f6c501f323",
   "metadata": {},
   "outputs": [
    {
     "name": "stdout",
     "output_type": "stream",
     "text": [
      "Epoch 1/150\n",
      "800/800 [==============================] - 1s 1ms/step - loss: 0.5033 - accuracy: 0.7763\n",
      "Epoch 2/150\n",
      "800/800 [==============================] - 1s 1ms/step - loss: 0.4284 - accuracy: 0.8158\n",
      "Epoch 3/150\n",
      "800/800 [==============================] - 1s 1ms/step - loss: 0.4074 - accuracy: 0.8304\n",
      "Epoch 4/150\n",
      "800/800 [==============================] - 1s 1ms/step - loss: 0.3801 - accuracy: 0.8436\n",
      "Epoch 5/150\n",
      "800/800 [==============================] - 1s 1ms/step - loss: 0.3623 - accuracy: 0.8499\n",
      "Epoch 6/150\n",
      "800/800 [==============================] - 1s 1ms/step - loss: 0.3528 - accuracy: 0.8547\n",
      "Epoch 7/150\n",
      "800/800 [==============================] - 1s 2ms/step - loss: 0.3486 - accuracy: 0.8560\n",
      "Epoch 8/150\n",
      "800/800 [==============================] - 1s 1ms/step - loss: 0.3450 - accuracy: 0.8589\n",
      "Epoch 9/150\n",
      "800/800 [==============================] - 1s 1ms/step - loss: 0.3430 - accuracy: 0.8589\n",
      "Epoch 10/150\n",
      "800/800 [==============================] - 1s 1ms/step - loss: 0.3414 - accuracy: 0.8585\n",
      "Epoch 11/150\n",
      "800/800 [==============================] - 1s 1ms/step - loss: 0.3399 - accuracy: 0.8597\n",
      "Epoch 12/150\n",
      "800/800 [==============================] - 1s 1ms/step - loss: 0.3380 - accuracy: 0.8629\n",
      "Epoch 13/150\n",
      "800/800 [==============================] - 1s 1ms/step - loss: 0.3371 - accuracy: 0.8619\n",
      "Epoch 14/150\n",
      "800/800 [==============================] - 1s 1ms/step - loss: 0.3365 - accuracy: 0.8630\n",
      "Epoch 15/150\n",
      "800/800 [==============================] - 1s 1ms/step - loss: 0.3353 - accuracy: 0.8619\n",
      "Epoch 16/150\n",
      "800/800 [==============================] - 1s 2ms/step - loss: 0.3347 - accuracy: 0.8640\n",
      "Epoch 17/150\n",
      "800/800 [==============================] - 1s 2ms/step - loss: 0.3346 - accuracy: 0.8615\n",
      "Epoch 18/150\n",
      "800/800 [==============================] - 1s 1ms/step - loss: 0.3344 - accuracy: 0.8627\n",
      "Epoch 19/150\n",
      "800/800 [==============================] - 1s 1ms/step - loss: 0.3329 - accuracy: 0.8633\n",
      "Epoch 20/150\n",
      "800/800 [==============================] - 1s 1ms/step - loss: 0.3327 - accuracy: 0.8624\n",
      "Epoch 21/150\n",
      "800/800 [==============================] - 1s 1ms/step - loss: 0.3320 - accuracy: 0.8622\n",
      "Epoch 22/150\n",
      "800/800 [==============================] - 1s 1ms/step - loss: 0.3323 - accuracy: 0.8630\n",
      "Epoch 23/150\n",
      "800/800 [==============================] - 1s 1ms/step - loss: 0.3319 - accuracy: 0.8636\n",
      "Epoch 24/150\n",
      "800/800 [==============================] - 1s 1ms/step - loss: 0.3309 - accuracy: 0.8634\n",
      "Epoch 25/150\n",
      "800/800 [==============================] - 1s 1ms/step - loss: 0.3314 - accuracy: 0.8616\n",
      "Epoch 26/150\n",
      "800/800 [==============================] - 1s 1ms/step - loss: 0.3307 - accuracy: 0.8629\n",
      "Epoch 27/150\n",
      "800/800 [==============================] - 1s 1ms/step - loss: 0.3299 - accuracy: 0.8648\n",
      "Epoch 28/150\n",
      "800/800 [==============================] - 1s 1ms/step - loss: 0.3307 - accuracy: 0.8646\n",
      "Epoch 29/150\n",
      "800/800 [==============================] - 1s 1ms/step - loss: 0.3302 - accuracy: 0.8637\n",
      "Epoch 30/150\n",
      "800/800 [==============================] - 1s 1ms/step - loss: 0.3297 - accuracy: 0.8630\n",
      "Epoch 31/150\n",
      "800/800 [==============================] - 1s 1ms/step - loss: 0.3297 - accuracy: 0.8633\n",
      "Epoch 32/150\n",
      "800/800 [==============================] - 1s 1ms/step - loss: 0.3290 - accuracy: 0.8650\n",
      "Epoch 33/150\n",
      "800/800 [==============================] - 1s 1ms/step - loss: 0.3287 - accuracy: 0.8634\n",
      "Epoch 34/150\n",
      "800/800 [==============================] - 1s 1ms/step - loss: 0.3289 - accuracy: 0.8630\n",
      "Epoch 35/150\n",
      "800/800 [==============================] - 1s 1ms/step - loss: 0.3281 - accuracy: 0.8643\n",
      "Epoch 36/150\n",
      "800/800 [==============================] - 1s 1ms/step - loss: 0.3295 - accuracy: 0.8634\n",
      "Epoch 37/150\n",
      "800/800 [==============================] - 1s 1ms/step - loss: 0.3283 - accuracy: 0.8644\n",
      "Epoch 38/150\n",
      "800/800 [==============================] - 1s 1ms/step - loss: 0.3286 - accuracy: 0.8645\n",
      "Epoch 39/150\n",
      "800/800 [==============================] - 1s 1ms/step - loss: 0.3274 - accuracy: 0.8654\n",
      "Epoch 40/150\n",
      "800/800 [==============================] - 1s 1ms/step - loss: 0.3277 - accuracy: 0.8641\n",
      "Epoch 41/150\n",
      "800/800 [==============================] - 1s 1ms/step - loss: 0.3278 - accuracy: 0.8635\n",
      "Epoch 42/150\n",
      "800/800 [==============================] - 1s 1ms/step - loss: 0.3281 - accuracy: 0.8630\n",
      "Epoch 43/150\n",
      "800/800 [==============================] - 1s 1ms/step - loss: 0.3270 - accuracy: 0.8649\n",
      "Epoch 44/150\n",
      "800/800 [==============================] - 1s 1ms/step - loss: 0.3271 - accuracy: 0.8639\n",
      "Epoch 45/150\n",
      "800/800 [==============================] - 1s 1ms/step - loss: 0.3266 - accuracy: 0.8660\n",
      "Epoch 46/150\n",
      "800/800 [==============================] - 1s 1ms/step - loss: 0.3264 - accuracy: 0.8664\n",
      "Epoch 47/150\n",
      "800/800 [==============================] - 1s 1ms/step - loss: 0.3265 - accuracy: 0.8639\n",
      "Epoch 48/150\n",
      "800/800 [==============================] - 1s 1ms/step - loss: 0.3265 - accuracy: 0.8634\n",
      "Epoch 49/150\n",
      "800/800 [==============================] - 1s 1ms/step - loss: 0.3259 - accuracy: 0.8643\n",
      "Epoch 50/150\n",
      "800/800 [==============================] - 1s 1ms/step - loss: 0.3252 - accuracy: 0.8674\n",
      "Epoch 51/150\n",
      "800/800 [==============================] - 1s 1ms/step - loss: 0.3258 - accuracy: 0.8654\n",
      "Epoch 52/150\n",
      "800/800 [==============================] - 1s 1ms/step - loss: 0.3261 - accuracy: 0.8652\n",
      "Epoch 53/150\n",
      "800/800 [==============================] - 1s 1ms/step - loss: 0.3252 - accuracy: 0.8677\n",
      "Epoch 54/150\n",
      "800/800 [==============================] - 1s 1ms/step - loss: 0.3252 - accuracy: 0.8639\n",
      "Epoch 55/150\n",
      "800/800 [==============================] - 1s 1ms/step - loss: 0.3255 - accuracy: 0.8650\n",
      "Epoch 56/150\n",
      "800/800 [==============================] - 1s 1ms/step - loss: 0.3250 - accuracy: 0.8655\n",
      "Epoch 57/150\n",
      "800/800 [==============================] - 1s 1ms/step - loss: 0.3247 - accuracy: 0.8662\n",
      "Epoch 58/150\n",
      "800/800 [==============================] - 1s 1ms/step - loss: 0.3252 - accuracy: 0.8648\n",
      "Epoch 59/150\n",
      "800/800 [==============================] - 1s 1ms/step - loss: 0.3246 - accuracy: 0.8677\n",
      "Epoch 60/150\n",
      "800/800 [==============================] - 1s 1ms/step - loss: 0.3240 - accuracy: 0.8644\n",
      "Epoch 61/150\n",
      "800/800 [==============================] - 1s 1ms/step - loss: 0.3250 - accuracy: 0.8652\n",
      "Epoch 62/150\n",
      "800/800 [==============================] - 1s 1ms/step - loss: 0.3248 - accuracy: 0.8648\n",
      "Epoch 63/150\n",
      "800/800 [==============================] - 1s 1ms/step - loss: 0.3239 - accuracy: 0.8677\n",
      "Epoch 64/150\n",
      "800/800 [==============================] - 1s 1ms/step - loss: 0.3241 - accuracy: 0.8664\n",
      "Epoch 65/150\n",
      "800/800 [==============================] - 1s 1ms/step - loss: 0.3242 - accuracy: 0.8649\n",
      "Epoch 66/150\n",
      "800/800 [==============================] - 1s 1ms/step - loss: 0.3239 - accuracy: 0.8668\n",
      "Epoch 67/150\n",
      "800/800 [==============================] - 1s 1ms/step - loss: 0.3240 - accuracy: 0.8669\n",
      "Epoch 68/150\n",
      "800/800 [==============================] - 1s 1ms/step - loss: 0.3237 - accuracy: 0.8646\n",
      "Epoch 69/150\n",
      "800/800 [==============================] - 1s 1ms/step - loss: 0.3237 - accuracy: 0.8640\n",
      "Epoch 70/150\n",
      "800/800 [==============================] - 1s 1ms/step - loss: 0.3237 - accuracy: 0.8655\n",
      "Epoch 71/150\n",
      "800/800 [==============================] - 1s 1ms/step - loss: 0.3233 - accuracy: 0.8665\n",
      "Epoch 72/150\n",
      "800/800 [==============================] - 1s 1ms/step - loss: 0.3236 - accuracy: 0.8629\n",
      "Epoch 73/150\n",
      "800/800 [==============================] - 1s 1ms/step - loss: 0.3237 - accuracy: 0.8650\n",
      "Epoch 74/150\n",
      "800/800 [==============================] - 1s 1ms/step - loss: 0.3230 - accuracy: 0.8646\n",
      "Epoch 75/150\n",
      "800/800 [==============================] - 1s 1ms/step - loss: 0.3235 - accuracy: 0.8665\n",
      "Epoch 76/150\n",
      "800/800 [==============================] - 1s 2ms/step - loss: 0.3237 - accuracy: 0.8658\n",
      "Epoch 77/150\n",
      "800/800 [==============================] - 1s 1ms/step - loss: 0.3227 - accuracy: 0.8641\n",
      "Epoch 78/150\n",
      "800/800 [==============================] - 1s 2ms/step - loss: 0.3230 - accuracy: 0.8652\n",
      "Epoch 79/150\n",
      "800/800 [==============================] - 1s 1ms/step - loss: 0.3221 - accuracy: 0.8685\n",
      "Epoch 80/150\n",
      "800/800 [==============================] - 1s 1ms/step - loss: 0.3228 - accuracy: 0.8670\n",
      "Epoch 81/150\n",
      "800/800 [==============================] - 1s 1ms/step - loss: 0.3231 - accuracy: 0.8655\n",
      "Epoch 82/150\n",
      "800/800 [==============================] - 1s 1ms/step - loss: 0.3232 - accuracy: 0.8637\n",
      "Epoch 83/150\n",
      "800/800 [==============================] - 2s 2ms/step - loss: 0.3231 - accuracy: 0.8684\n",
      "Epoch 84/150\n",
      "800/800 [==============================] - 2s 2ms/step - loss: 0.3224 - accuracy: 0.8656\n",
      "Epoch 85/150\n",
      "800/800 [==============================] - 1s 2ms/step - loss: 0.3225 - accuracy: 0.8666\n",
      "Epoch 86/150\n",
      "800/800 [==============================] - 1s 1ms/step - loss: 0.3224 - accuracy: 0.8651\n",
      "Epoch 87/150\n",
      "800/800 [==============================] - 1s 1ms/step - loss: 0.3223 - accuracy: 0.8661\n",
      "Epoch 88/150\n",
      "800/800 [==============================] - 1s 1ms/step - loss: 0.3224 - accuracy: 0.8668\n",
      "Epoch 89/150\n",
      "800/800 [==============================] - 1s 1ms/step - loss: 0.3219 - accuracy: 0.8650\n",
      "Epoch 90/150\n",
      "800/800 [==============================] - 1s 1ms/step - loss: 0.3222 - accuracy: 0.8664\n",
      "Epoch 91/150\n",
      "800/800 [==============================] - 1s 1ms/step - loss: 0.3219 - accuracy: 0.8658\n",
      "Epoch 92/150\n",
      "800/800 [==============================] - 1s 1ms/step - loss: 0.3219 - accuracy: 0.8674\n",
      "Epoch 93/150\n",
      "800/800 [==============================] - 1s 1ms/step - loss: 0.3216 - accuracy: 0.8686\n",
      "Epoch 94/150\n",
      "800/800 [==============================] - 1s 1ms/step - loss: 0.3211 - accuracy: 0.8668\n",
      "Epoch 95/150\n",
      "800/800 [==============================] - 1s 1ms/step - loss: 0.3219 - accuracy: 0.8673\n",
      "Epoch 96/150\n",
      "800/800 [==============================] - 1s 1ms/step - loss: 0.3215 - accuracy: 0.8679\n",
      "Epoch 97/150\n",
      "800/800 [==============================] - 1s 1ms/step - loss: 0.3217 - accuracy: 0.8689\n",
      "Epoch 98/150\n",
      "800/800 [==============================] - 1s 1ms/step - loss: 0.3219 - accuracy: 0.8686\n",
      "Epoch 99/150\n",
      "800/800 [==============================] - 1s 1ms/step - loss: 0.3218 - accuracy: 0.8677\n",
      "Epoch 100/150\n",
      "800/800 [==============================] - 1s 1ms/step - loss: 0.3217 - accuracy: 0.8677\n",
      "Epoch 101/150\n",
      "800/800 [==============================] - 1s 1ms/step - loss: 0.3215 - accuracy: 0.8671\n",
      "Epoch 102/150\n",
      "800/800 [==============================] - 1s 1ms/step - loss: 0.3205 - accuracy: 0.8658\n",
      "Epoch 103/150\n",
      "800/800 [==============================] - 1s 1ms/step - loss: 0.3216 - accuracy: 0.8687\n",
      "Epoch 104/150\n",
      "800/800 [==============================] - 1s 1ms/step - loss: 0.3206 - accuracy: 0.8665\n",
      "Epoch 105/150\n",
      "800/800 [==============================] - 1s 1ms/step - loss: 0.3217 - accuracy: 0.8661\n",
      "Epoch 106/150\n",
      "800/800 [==============================] - 1s 1ms/step - loss: 0.3212 - accuracy: 0.8664\n",
      "Epoch 107/150\n",
      "800/800 [==============================] - 1s 1ms/step - loss: 0.3206 - accuracy: 0.8675\n",
      "Epoch 108/150\n",
      "800/800 [==============================] - 1s 1ms/step - loss: 0.3203 - accuracy: 0.8675\n",
      "Epoch 109/150\n",
      "800/800 [==============================] - 1s 1ms/step - loss: 0.3205 - accuracy: 0.8665\n",
      "Epoch 110/150\n",
      "800/800 [==============================] - 1s 1ms/step - loss: 0.3204 - accuracy: 0.8679\n",
      "Epoch 111/150\n",
      "800/800 [==============================] - 1s 1ms/step - loss: 0.3206 - accuracy: 0.8675\n",
      "Epoch 112/150\n",
      "800/800 [==============================] - 1s 1ms/step - loss: 0.3210 - accuracy: 0.8676\n",
      "Epoch 113/150\n",
      "800/800 [==============================] - 1s 1ms/step - loss: 0.3209 - accuracy: 0.8673\n",
      "Epoch 114/150\n",
      "800/800 [==============================] - 1s 1ms/step - loss: 0.3203 - accuracy: 0.8671\n",
      "Epoch 115/150\n",
      "800/800 [==============================] - 1s 1ms/step - loss: 0.3204 - accuracy: 0.8669\n",
      "Epoch 116/150\n",
      "800/800 [==============================] - 1s 1ms/step - loss: 0.3204 - accuracy: 0.8677\n",
      "Epoch 117/150\n",
      "800/800 [==============================] - 1s 1ms/step - loss: 0.3203 - accuracy: 0.8684\n",
      "Epoch 118/150\n",
      "800/800 [==============================] - 1s 1ms/step - loss: 0.3200 - accuracy: 0.8685\n",
      "Epoch 119/150\n",
      "800/800 [==============================] - 1s 1ms/step - loss: 0.3201 - accuracy: 0.8675\n",
      "Epoch 120/150\n",
      "800/800 [==============================] - 1s 1ms/step - loss: 0.3200 - accuracy: 0.8686\n",
      "Epoch 121/150\n",
      "800/800 [==============================] - 1s 1ms/step - loss: 0.3202 - accuracy: 0.8671\n",
      "Epoch 122/150\n",
      "800/800 [==============================] - 1s 1ms/step - loss: 0.3205 - accuracy: 0.8677\n",
      "Epoch 123/150\n",
      "800/800 [==============================] - 1s 1ms/step - loss: 0.3196 - accuracy: 0.8687\n",
      "Epoch 124/150\n",
      "800/800 [==============================] - 1s 1ms/step - loss: 0.3204 - accuracy: 0.8677\n",
      "Epoch 125/150\n",
      "800/800 [==============================] - 1s 1ms/step - loss: 0.3198 - accuracy: 0.8687\n",
      "Epoch 126/150\n",
      "800/800 [==============================] - 1s 1ms/step - loss: 0.3197 - accuracy: 0.8679\n",
      "Epoch 127/150\n",
      "800/800 [==============================] - 1s 1ms/step - loss: 0.3196 - accuracy: 0.8689\n",
      "Epoch 128/150\n",
      "800/800 [==============================] - 1s 1ms/step - loss: 0.3196 - accuracy: 0.8701\n",
      "Epoch 129/150\n",
      "800/800 [==============================] - 1s 1ms/step - loss: 0.3191 - accuracy: 0.8685\n",
      "Epoch 130/150\n",
      "800/800 [==============================] - 1s 1ms/step - loss: 0.3195 - accuracy: 0.8659\n",
      "Epoch 131/150\n",
      "800/800 [==============================] - 1s 1ms/step - loss: 0.3195 - accuracy: 0.8673\n",
      "Epoch 132/150\n",
      "800/800 [==============================] - 1s 1ms/step - loss: 0.3197 - accuracy: 0.8674\n",
      "Epoch 133/150\n",
      "800/800 [==============================] - 1s 1ms/step - loss: 0.3195 - accuracy: 0.8680\n",
      "Epoch 134/150\n",
      "800/800 [==============================] - 1s 1ms/step - loss: 0.3196 - accuracy: 0.8683\n",
      "Epoch 135/150\n",
      "800/800 [==============================] - 1s 1ms/step - loss: 0.3195 - accuracy: 0.8705\n",
      "Epoch 136/150\n",
      "800/800 [==============================] - 1s 1ms/step - loss: 0.3187 - accuracy: 0.8690\n",
      "Epoch 137/150\n",
      "800/800 [==============================] - 1s 1ms/step - loss: 0.3191 - accuracy: 0.8686\n",
      "Epoch 138/150\n",
      "800/800 [==============================] - 1s 1ms/step - loss: 0.3188 - accuracy: 0.8684\n",
      "Epoch 139/150\n",
      "800/800 [==============================] - 1s 1ms/step - loss: 0.3198 - accuracy: 0.8681\n",
      "Epoch 140/150\n",
      "800/800 [==============================] - 1s 1ms/step - loss: 0.3188 - accuracy: 0.8675\n",
      "Epoch 141/150\n",
      "800/800 [==============================] - 1s 1ms/step - loss: 0.3183 - accuracy: 0.8671\n",
      "Epoch 142/150\n",
      "800/800 [==============================] - 1s 1ms/step - loss: 0.3190 - accuracy: 0.8681\n",
      "Epoch 143/150\n",
      "800/800 [==============================] - 1s 1ms/step - loss: 0.3194 - accuracy: 0.8684\n",
      "Epoch 144/150\n",
      "800/800 [==============================] - 1s 1ms/step - loss: 0.3188 - accuracy: 0.8690\n",
      "Epoch 145/150\n",
      "800/800 [==============================] - 1s 1ms/step - loss: 0.3188 - accuracy: 0.8708\n",
      "Epoch 146/150\n",
      "800/800 [==============================] - 1s 1ms/step - loss: 0.3187 - accuracy: 0.8687\n",
      "Epoch 147/150\n",
      "800/800 [==============================] - 1s 1ms/step - loss: 0.3187 - accuracy: 0.8689\n",
      "Epoch 148/150\n",
      "800/800 [==============================] - 1s 1ms/step - loss: 0.3179 - accuracy: 0.8687\n",
      "Epoch 149/150\n",
      "800/800 [==============================] - 1s 1ms/step - loss: 0.3188 - accuracy: 0.8696\n",
      "Epoch 150/150\n",
      "800/800 [==============================] - 1s 1ms/step - loss: 0.3184 - accuracy: 0.8699\n"
     ]
    },
    {
     "data": {
      "text/plain": [
       "<keras.callbacks.History at 0x1f314477d30>"
      ]
     },
     "execution_count": 378,
     "metadata": {},
     "output_type": "execute_result"
    }
   ],
   "source": [
    "model.fit(X_train, y_train, epochs=150, batch_size=10)"
   ]
  },
  {
   "cell_type": "code",
   "execution_count": 379,
   "id": "137e1024-6fb8-4569-a2a5-616993d6503b",
   "metadata": {},
   "outputs": [
    {
     "name": "stdout",
     "output_type": "stream",
     "text": [
      "63/63 [==============================] - 0s 1ms/step - loss: 0.3286 - accuracy: 0.8660\n",
      "Accuracy: 86.60\n"
     ]
    }
   ],
   "source": [
    "_, accuracy = model.evaluate(X_test, y_test)\n",
    "print('Accuracy: %.2f' % (accuracy*100))"
   ]
  },
  {
   "cell_type": "code",
   "execution_count": 380,
   "id": "879fcf2f-3b3e-488d-88d5-d1a2cfd458b3",
   "metadata": {},
   "outputs": [
    {
     "name": "stdout",
     "output_type": "stream",
     "text": [
      "63/63 [==============================] - 0s 903us/step\n"
     ]
    }
   ],
   "source": [
    "predictions = (model.predict(X_test) > 0.5).astype(int)"
   ]
  },
  {
   "cell_type": "code",
   "execution_count": 381,
   "id": "0e41202a-b8fd-4a3b-bdd3-f49c868126e3",
   "metadata": {},
   "outputs": [
    {
     "name": "stdout",
     "output_type": "stream",
     "text": [
      "Confusion matrix, without normalization\n",
      "[[ 203  193]\n",
      " [  75 1529]]\n"
     ]
    },
    {
     "data": {
      "image/png": "[encoded data removed]",
      "text/plain": [
       "<Figure size 432x288 with 2 Axes>"
      ]
     },
     "metadata": {
      "needs_background": "light"
     },
     "output_type": "display_data"
    }
   ],
   "source": [
    "cnf_matrix = confusion_matrix(y_test, predictions, labels=[1,0])\n",
    "np.set_printoptions(precision=2)\n",
    "\n",
    "\n",
    "# Plot non-normalized confusion matrix\n",
    "plt.figure()\n",
    "plot_confusion_matrix(cnf_matrix, classes=['churn=1','churn=0'],normalize= False,  title='Confusion matrix')"
   ]
  },
  {
   "cell_type": "code",
   "execution_count": 382,
   "id": "d6898169-82c5-4e6a-bbce-6194914f67d5",
   "metadata": {},
   "outputs": [
    {
     "name": "stdout",
     "output_type": "stream",
     "text": [
      "              precision    recall  f1-score   support\n",
      "\n",
      "           0       0.89      0.95      0.92      1604\n",
      "           1       0.73      0.51      0.60       396\n",
      "\n",
      "    accuracy                           0.87      2000\n",
      "   macro avg       0.81      0.73      0.76      2000\n",
      "weighted avg       0.86      0.87      0.86      2000\n",
      "\n"
     ]
    }
   ],
   "source": [
    "print (classification_report(y_test, predictions))"
   ]
  },
  {
   "cell_type": "code",
   "execution_count": null,
   "id": "e6946bc8-ab29-46fb-ae24-da9fb692dbc3",
   "metadata": {},
   "outputs": [],
   "source": [
    "### So we get best redult by neural network\n"
   ]
  }
 ],
 "metadata": {
  "kernelspec": {
   "display_name": "Python 3 (ipykernel)",
   "language": "python",
   "name": "python3"
  },
  "language_info": {
   "codemirror_mode": {
    "name": "ipython",
    "version": 3
   },
   "file_extension": ".py",
   "mimetype": "text/x-python",
   "name": "python",
   "nbconvert_exporter": "python",
   "pygments_lexer": "ipython3",
   "version": "3.10.2"
  }
 },
 "nbformat": 4,
 "nbformat_minor": 5
}
